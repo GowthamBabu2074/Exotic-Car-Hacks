{
 "cells": [
  {
   "cell_type": "code",
   "execution_count": null,
   "metadata": {},
   "outputs": [],
   "source": [
    "import os\n",
    "from selenium.common.exceptions import NoSuchElementException, ElementClickInterceptedException\n",
    "from selenium import webdriver\n",
    "import pandas as pd\n",
    "import requests\n",
    "import get_cars"
   ]
  },
  {
   "cell_type": "markdown",
   "metadata": {},
   "source": [
    "### mustang"
   ]
  },
  {
   "cell_type": "markdown",
   "metadata": {},
   "source": [
    "Why scrape by different cateogoreis?<br>\n",
    "By default, cars.com displays only 50 pages at a time. Using general method, it is impossible to scrape all data. So, divided the data into year cateogory and scraped so that i can all the data that i need."
   ]
  },
  {
   "cell_type": "markdown",
   "metadata": {},
   "source": [
    "##### Samplr url"
   ]
  },
  {
   "cell_type": "markdown",
   "metadata": {},
   "source": [
    "https://www.cars.com/for-sale/searchresults.action/?mdId=21712&mkId=20015&page=1&perPage=100&rd=99999&searchSource=GN_REFINEMENT&sort=relevance&yrId=20199%2C20144%2C20200%2C20145%2C20201%2C27381%2C34923%2C39723%2C47272%2C51683&zc=37404   "
   ]
  },
  {
   "cell_type": "markdown",
   "metadata": {},
   "source": [
    "##### modified url"
   ]
  },
  {
   "cell_type": "markdown",
   "metadata": {},
   "source": [
    "https://www.cars.com/for-sale/searchresults.action/?mdId=21712&mkId=20015&page='+str(i)+'&perPage=100&rd=99999&searchSource=GN_REFINEMENT&sort=relevance&yrId=20199%2C20144%2C20200%2C20145%2C20201%2C27381%2C34923%2C39723%2C47272%2C51683&zc=37404   "
   ]
  },
  {
   "cell_type": "markdown",
   "metadata": {},
   "source": [
    "##### fifth gen(2004 - 2014)"
   ]
  },
  {
   "cell_type": "code",
   "execution_count": null,
   "metadata": {},
   "outputs": [],
   "source": [
    "for i in range(1,32):\n",
    "    driver = webdriver.Chrome(executable_path=\"your chrome driver path\")\n",
    "    url = 'your url' #make sure your url contains '+str(i)+' like shown above in the page column\n",
    "    url =  driver.get(url)\n",
    "    \n",
    "    li =[]\n",
    "    \n",
    "    for a in driver.find_elements_by_xpath('.//a'):\n",
    "        b = a.get_attribute('href')\n",
    "        if not b == None: \n",
    "            responseList = b.split('/')\n",
    "            c = responseList\n",
    "            for i in c:\n",
    "                if i.isdigit():\n",
    "                    li.append(int(i))\n",
    "\n",
    "    cars = []\n",
    "    for i in li:\n",
    "        ur = 'https://www.cars.com/vehicledetail/detail/'+str(i)+'/overview/'\n",
    "        driver.get(ur)\n",
    "        get_cars\n",
    "        \n",
    "    cs =  pd.DataFrame(cars)\n",
    "    cs.to_csv('C:/Users/User/Desktop/cars.com/Files/{}.csv'.format('gt0414' + '-'+str(i)), index= False) "
   ]
  },
  {
   "cell_type": "markdown",
   "metadata": {},
   "source": [
    "##### 2014 - 2016 "
   ]
  },
  {
   "cell_type": "code",
   "execution_count": null,
   "metadata": {},
   "outputs": [],
   "source": [
    "for i in range(1,33):\n",
    "    driver = webdriver.Chrome(executable_path=\"your chrome driver path\")\n",
    "    url = 'your url' #make sure your url contains '+str(i)+' like shown above in the page column\n",
    "    driver.get(url)\n",
    "    \n",
    "    li =[]\n",
    "    \n",
    "    for a in driver.find_elements_by_xpath('.//a'):\n",
    "        b = a.get_attribute('href')\n",
    "        if not b == None: \n",
    "            responseList = b.split('/')\n",
    "            c = responseList\n",
    "            for i in c:\n",
    "                if i.isdigit():\n",
    "                    li.append(int(i))\n",
    "\n",
    "    cars = []\n",
    "    for i in li:\n",
    "        url = 'https://www.cars.com/vehicledetail/detail/'+str(i)+'/overview/'\n",
    "        driver.get(ur)\n",
    "        get_cars\n",
    "    \n",
    "    cs =  pd.DataFrame(cars)\n",
    "    cs.to_csv('C:/Users/User/Desktop/cars.com/Files/{}.csv'.format('gt1416' + '-'+str(i)), index= False) "
   ]
  },
  {
   "cell_type": "markdown",
   "metadata": {},
   "source": [
    "##### 2017 - 2018"
   ]
  },
  {
   "cell_type": "code",
   "execution_count": null,
   "metadata": {},
   "outputs": [],
   "source": [
    "for i in range(1,39):\n",
    "    driver = webdriver.Chrome(executable_path=\"your chrome driver path\")\n",
    "    url = 'your url' #make sure your url contains '+str(i)+' like shown above in the page column\n",
    "    driver.get(url)\n",
    "    \n",
    "    li =[]\n",
    "    \n",
    "    for a in driver.find_elements_by_xpath('.//a'):\n",
    "        b = a.get_attribute('href')\n",
    "        if not b == None: \n",
    "            responseList = b.split('/')\n",
    "            c = responseList\n",
    "            for i in c:\n",
    "                if i.isdigit():\n",
    "                    li.append(int(i))\n",
    "\n",
    "    cars = []\n",
    "    for i in li:\n",
    "        ur = 'https://www.cars.com/vehicledetail/detail/'+str(i)+'/overview/'\n",
    "        driver.get(ur)\n",
    "        get_cars\n",
    "    \n",
    "    cs =  pd.DataFrame(cars)\n",
    "    cs.to_csv('C:/Users/User/Desktop/cars.com/Files/{}.csv'.format('gt1718' + '-'+str(i)), index= False) "
   ]
  },
  {
   "cell_type": "markdown",
   "metadata": {},
   "source": [
    "##### 2019 - 2020"
   ]
  },
  {
   "cell_type": "code",
   "execution_count": null,
   "metadata": {},
   "outputs": [],
   "source": [
    "for i in range(1,46):\n",
    "    driver = webdriver.Chrome(executable_path=\"your chrome driver path\")\n",
    "    url = 'your url' #make sure your url contains '+str(i)+' like shown above in the page column\n",
    "    driver.get(url)\n",
    "    \n",
    "    li =[]\n",
    "    \n",
    "    for a in driver.find_elements_by_xpath('.//a'):\n",
    "        b = a.get_attribute('href')\n",
    "        if not b == None: \n",
    "            responseList = b.split('/')\n",
    "            c = responseList\n",
    "            for i in c:\n",
    "                if i.isdigit():\n",
    "                    li.append(int(i))\n",
    "\n",
    "    cars = []\n",
    "    for i in li:\n",
    "        ur = 'https://www.cars.com/vehicledetail/detail/'+str(i)+'/overview/'\n",
    "        driver.get(ur)\n",
    "        get_cars\n",
    "    \n",
    "    cs =  pd.DataFrame(cars)\n",
    "    cs.to_csv('C:/Users/User/Desktop/cars.com/Files/{}.csv'.format('gt1920' + '-'+str(i)), index= False) "
   ]
  },
  {
   "cell_type": "markdown",
   "metadata": {},
   "source": [
    "##### 2021 - done"
   ]
  },
  {
   "cell_type": "code",
   "execution_count": null,
   "metadata": {},
   "outputs": [],
   "source": [
    "for i in range(1,23):\n",
    "    driver = webdriver.Chrome(executable_path=\"your chrome driver path\")\n",
    "    url = 'your url' #make sure your url contains '+str(i)+' like shown above in the page column\n",
    "    driver.get(url)\n",
    "    \n",
    "    li =[]\n",
    "    \n",
    "    for a in driver.find_elements_by_xpath('.//a'):\n",
    "        b = a.get_attribute('href')\n",
    "        if not b == None: \n",
    "            responseList = b.split('/')\n",
    "            c = responseList\n",
    "            for i in c:\n",
    "                if i.isdigit():\n",
    "                    li.append(int(i))\n",
    "\n",
    "    cars = []\n",
    "    for i in li:\n",
    "        url = 'https://www.cars.com/vehicledetail/detail/'+str(i)+'/overview/'\n",
    "        driver.get(ur)\n",
    "        get_cars\n",
    "    \n",
    "    cs =  pd.DataFrame(cars)\n",
    "    cs.to_csv('C:/Users/User/Desktop/cars.com/Files/{}.csv'.format('gt21' + '-'+str(i)), index= False) "
   ]
  },
  {
   "cell_type": "markdown",
   "metadata": {},
   "source": [
    "### mach_e"
   ]
  },
  {
   "cell_type": "code",
   "execution_count": null,
   "metadata": {},
   "outputs": [],
   "source": [
    "for i in range(1,20):\n",
    "    driver = webdriver.Chrome(executable_path=\"your chrome driver path\")\n",
    "    url = 'your url' #make sure your url contains '+str(i)+' like shown above in the page column\n",
    "    driver.get(url)\n",
    "    \n",
    "    li =[]\n",
    "    \n",
    "    for a in driver.find_elements_by_xpath('.//a'):\n",
    "        b = a.get_attribute('href')\n",
    "        if not b == None: \n",
    "            responseList = b.split('/')\n",
    "            c = responseList\n",
    "            for i in c:\n",
    "                if i.isdigit():\n",
    "                    li.append(int(i))\n",
    "\n",
    "    cars = []\n",
    "    for i in li:\n",
    "        ur = 'https://www.cars.com/vehicledetail/detail/'+str(i)+'/overview/'\n",
    "        driver.get(ur)\n",
    "        get_cars\n",
    "    \n",
    "    cs =  pd.DataFrame(cars)\n",
    "    cs.to_csv('C:/Users/User/Desktop/cars.com/mach_e_files/{}.csv'.format('mach_e' + '-'+str(i)), index= False) "
   ]
  },
  {
   "cell_type": "markdown",
   "metadata": {},
   "source": [
    "### shelby"
   ]
  },
  {
   "cell_type": "code",
   "execution_count": null,
   "metadata": {},
   "outputs": [],
   "source": [
    "for i in range(1,11):\n",
    "    driver = webdriver.Chrome(executable_path=\"your chrome driver path\")\n",
    "    url = 'your url' #make sure your url contains '+str(i)+' like shown above in the page column\n",
    "    driver.get(url)\n",
    "    \n",
    "    li =[]\n",
    "    \n",
    "    for a in driver.find_elements_by_xpath('.//a'):\n",
    "        b = a.get_attribute('href')\n",
    "        if not b == None: \n",
    "            responseList = b.split('/')\n",
    "            c = responseList\n",
    "            for i in c:\n",
    "                if i.isdigit():\n",
    "                    li.append(int(i))\n",
    "\n",
    "    cars = []\n",
    "    for i in li:\n",
    "        ur = 'https://www.cars.com/vehicledetail/detail/'+str(i)+'/overview/'\n",
    "        driver.get(ur)\n",
    "        get_cars\n",
    "    \n",
    "    cs =  pd.DataFrame(cars)\n",
    "    cs.to_csv('C:/Users/User/Desktop/cars.com/shelby_files/{}.csv'.format('shelby' + str(i)), index= False) "
   ]
  }
 ],
 "metadata": {
  "kernelspec": {
   "display_name": "Python 3",
   "language": "python",
   "name": "python3"
  },
  "language_info": {
   "codemirror_mode": {
    "name": "ipython",
    "version": 3
   },
   "file_extension": ".py",
   "mimetype": "text/x-python",
   "name": "python",
   "nbconvert_exporter": "python",
   "pygments_lexer": "ipython3",
   "version": "3.8.3"
  }
 },
 "nbformat": 4,
 "nbformat_minor": 4
}
