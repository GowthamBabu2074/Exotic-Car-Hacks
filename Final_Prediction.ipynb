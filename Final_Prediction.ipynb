{
 "cells": [
  {
   "cell_type": "code",
   "execution_count": 174,
   "metadata": {
    "id": "MuYX82HQNL8C"
   },
   "outputs": [],
   "source": [
    "import numpy as np\n",
    "import matplotlib.pyplot as plt\n",
    "import seaborn as sns\n",
    "import pandas as pd\n",
    "df = pd.read_csv('Final_cars_data.csv')"
   ]
  },
  {
   "cell_type": "code",
   "execution_count": 175,
   "metadata": {
    "colab": {
     "base_uri": "https://localhost:8080/"
    },
    "id": "xfGq_yEmNL8E",
    "outputId": "b743fb65-2939-4af0-9d38-69521cd5d728"
   },
   "outputs": [
    {
     "data": {
      "text/plain": [
       "Year            int64\n",
       "Model          object\n",
       "Type           object\n",
       "price           int64\n",
       "mileage         int64\n",
       "colour         object\n",
       "city_mpg        int64\n",
       "highway_mpg     int64\n",
       "Pin code        int64\n",
       "Area           object\n",
       "contact         int64\n",
       "id              int64\n",
       "dtype: object"
      ]
     },
     "execution_count": 175,
     "metadata": {},
     "output_type": "execute_result"
    }
   ],
   "source": [
    "df.dtypes"
   ]
  },
  {
   "cell_type": "code",
   "execution_count": 176,
   "metadata": {
    "colab": {
     "base_uri": "https://localhost:8080/",
     "height": 206
    },
    "id": "rn5X4TMkNL8F",
    "outputId": "9913307e-5a41-4141-8607-6bbd7de4eab6"
   },
   "outputs": [
    {
     "data": {
      "text/html": [
       "<div>\n",
       "<style scoped>\n",
       "    .dataframe tbody tr th:only-of-type {\n",
       "        vertical-align: middle;\n",
       "    }\n",
       "\n",
       "    .dataframe tbody tr th {\n",
       "        vertical-align: top;\n",
       "    }\n",
       "\n",
       "    .dataframe thead th {\n",
       "        text-align: right;\n",
       "    }\n",
       "</style>\n",
       "<table border=\"1\" class=\"dataframe\">\n",
       "  <thead>\n",
       "    <tr style=\"text-align: right;\">\n",
       "      <th></th>\n",
       "      <th>Year</th>\n",
       "      <th>Model</th>\n",
       "      <th>Type</th>\n",
       "      <th>price</th>\n",
       "      <th>mileage</th>\n",
       "      <th>colour</th>\n",
       "      <th>city_mpg</th>\n",
       "      <th>highway_mpg</th>\n",
       "      <th>Pin code</th>\n",
       "      <th>Area</th>\n",
       "      <th>contact</th>\n",
       "      <th>id</th>\n",
       "    </tr>\n",
       "  </thead>\n",
       "  <tbody>\n",
       "    <tr>\n",
       "      <th>0</th>\n",
       "      <td>2013</td>\n",
       "      <td>Mustang</td>\n",
       "      <td>Ecoboost</td>\n",
       "      <td>10595</td>\n",
       "      <td>52412</td>\n",
       "      <td>Red</td>\n",
       "      <td>19</td>\n",
       "      <td>19</td>\n",
       "      <td>90250</td>\n",
       "      <td>Hawthorne ,CA</td>\n",
       "      <td>4245677378</td>\n",
       "      <td>831406509</td>\n",
       "    </tr>\n",
       "    <tr>\n",
       "      <th>1</th>\n",
       "      <td>2014</td>\n",
       "      <td>Mustang</td>\n",
       "      <td>Ecoboost</td>\n",
       "      <td>17950</td>\n",
       "      <td>91875</td>\n",
       "      <td>Black</td>\n",
       "      <td>19</td>\n",
       "      <td>19</td>\n",
       "      <td>36608</td>\n",
       "      <td>Mobile ,AL</td>\n",
       "      <td>2512572800</td>\n",
       "      <td>844891639</td>\n",
       "    </tr>\n",
       "    <tr>\n",
       "      <th>2</th>\n",
       "      <td>2005</td>\n",
       "      <td>Mustang</td>\n",
       "      <td>Premium</td>\n",
       "      <td>9690</td>\n",
       "      <td>92385</td>\n",
       "      <td>Sonic Blue Metallic</td>\n",
       "      <td>19</td>\n",
       "      <td>19</td>\n",
       "      <td>20152</td>\n",
       "      <td>Chantilly ,VA</td>\n",
       "      <td>8553512738</td>\n",
       "      <td>841743756</td>\n",
       "    </tr>\n",
       "    <tr>\n",
       "      <th>3</th>\n",
       "      <td>2009</td>\n",
       "      <td>Mustang</td>\n",
       "      <td>GT</td>\n",
       "      <td>13969</td>\n",
       "      <td>97789</td>\n",
       "      <td>Dark Candy Apple Red</td>\n",
       "      <td>15</td>\n",
       "      <td>15</td>\n",
       "      <td>45177</td>\n",
       "      <td>Wilmington ,OH</td>\n",
       "      <td>9375563097</td>\n",
       "      <td>844440740</td>\n",
       "    </tr>\n",
       "    <tr>\n",
       "      <th>4</th>\n",
       "      <td>2014</td>\n",
       "      <td>Mustang</td>\n",
       "      <td>GT</td>\n",
       "      <td>32990</td>\n",
       "      <td>18781</td>\n",
       "      <td>Silver</td>\n",
       "      <td>15</td>\n",
       "      <td>15</td>\n",
       "      <td>48105</td>\n",
       "      <td>Ann Arbor ,MI</td>\n",
       "      <td>9018810260</td>\n",
       "      <td>848436197</td>\n",
       "    </tr>\n",
       "  </tbody>\n",
       "</table>\n",
       "</div>"
      ],
      "text/plain": [
       "   Year    Model      Type  price  mileage                colour  city_mpg  \\\n",
       "0  2013  Mustang  Ecoboost  10595    52412                   Red        19   \n",
       "1  2014  Mustang  Ecoboost  17950    91875                 Black        19   \n",
       "2  2005  Mustang   Premium   9690    92385   Sonic Blue Metallic        19   \n",
       "3  2009  Mustang        GT  13969    97789  Dark Candy Apple Red        15   \n",
       "4  2014  Mustang        GT  32990    18781                Silver        15   \n",
       "\n",
       "   highway_mpg  Pin code             Area     contact         id  \n",
       "0           19     90250    Hawthorne ,CA  4245677378  831406509  \n",
       "1           19     36608       Mobile ,AL  2512572800  844891639  \n",
       "2           19     20152    Chantilly ,VA  8553512738  841743756  \n",
       "3           15     45177   Wilmington ,OH  9375563097  844440740  \n",
       "4           15     48105    Ann Arbor ,MI  9018810260  848436197  "
      ]
     },
     "execution_count": 176,
     "metadata": {},
     "output_type": "execute_result"
    }
   ],
   "source": [
    "df.head()"
   ]
  },
  {
   "cell_type": "code",
   "execution_count": 177,
   "metadata": {
    "colab": {
     "base_uri": "https://localhost:8080/"
    },
    "id": "4d1sHxZXNL8G",
    "outputId": "01025d8c-6cf8-40fc-b480-118cec5f4e68"
   },
   "outputs": [
    {
     "data": {
      "text/plain": [
       "Mustang    7743\n",
       "SHELBY      648\n",
       "Name: Model, dtype: int64"
      ]
     },
     "execution_count": 177,
     "metadata": {},
     "output_type": "execute_result"
    }
   ],
   "source": [
    "df.Model.value_counts()"
   ]
  },
  {
   "cell_type": "code",
   "execution_count": 178,
   "metadata": {},
   "outputs": [
    {
     "data": {
      "text/plain": [
       "<AxesSubplot:>"
      ]
     },
     "execution_count": 178,
     "metadata": {},
     "output_type": "execute_result"
    },
    {
     "data": {
      "image/png": "[encoded data removed]",
      "text/plain": [
       "<Figure size 432x288 with 1 Axes>"
      ]
     },
     "metadata": {
      "needs_background": "light"
     },
     "output_type": "display_data"
    }
   ],
   "source": [
    "df.Model.value_counts().plot(kind = 'barh')"
   ]
  },
  {
   "cell_type": "code",
   "execution_count": 179,
   "metadata": {
    "colab": {
     "base_uri": "https://localhost:8080/"
    },
    "id": "kzG6QpbLNL8G",
    "outputId": "6de82fa6-0279-4da3-c976-0eecdccf025e"
   },
   "outputs": [
    {
     "data": {
      "text/plain": [
       "GT          3939\n",
       "Ecoboost    1866\n",
       "Mach-E      1037\n",
       "Premium      765\n",
       "GT500        417\n",
       "GT350        221\n",
       "Bullitt       78\n",
       "Boss          54\n",
       "Standard      10\n",
       "PREMIUM        3\n",
       "BULLITT        1\n",
       "Name: Type, dtype: int64"
      ]
     },
     "execution_count": 179,
     "metadata": {},
     "output_type": "execute_result"
    }
   ],
   "source": [
    "df.Type.value_counts()"
   ]
  },
  {
   "cell_type": "code",
   "execution_count": 180,
   "metadata": {},
   "outputs": [
    {
     "data": {
      "text/plain": [
       "<AxesSubplot:>"
      ]
     },
     "execution_count": 180,
     "metadata": {},
     "output_type": "execute_result"
    },
    {
     "data": {
      "image/png": "[encoded data removed]",
      "text/plain": [
       "<Figure size 432x288 with 1 Axes>"
      ]
     },
     "metadata": {
      "needs_background": "light"
     },
     "output_type": "display_data"
    }
   ],
   "source": [
    "df.Type.value_counts().plot(kind = 'barh')"
   ]
  },
  {
   "cell_type": "markdown",
   "metadata": {
    "id": "Bs5RvDp7NL8I"
   },
   "source": [
    "dropping these contact and id features but will be usin them in the final deployemnet. "
   ]
  },
  {
   "cell_type": "code",
   "execution_count": 181,
   "metadata": {
    "colab": {
     "base_uri": "https://localhost:8080/",
     "height": 206
    },
    "id": "OC86WxfvNL8J",
    "outputId": "264aeeda-2b0d-4e64-a548-359d9d20f801"
   },
   "outputs": [
    {
     "data": {
      "text/html": [
       "<div>\n",
       "<style scoped>\n",
       "    .dataframe tbody tr th:only-of-type {\n",
       "        vertical-align: middle;\n",
       "    }\n",
       "\n",
       "    .dataframe tbody tr th {\n",
       "        vertical-align: top;\n",
       "    }\n",
       "\n",
       "    .dataframe thead th {\n",
       "        text-align: right;\n",
       "    }\n",
       "</style>\n",
       "<table border=\"1\" class=\"dataframe\">\n",
       "  <thead>\n",
       "    <tr style=\"text-align: right;\">\n",
       "      <th></th>\n",
       "      <th>Year</th>\n",
       "      <th>Model</th>\n",
       "      <th>Type</th>\n",
       "      <th>price</th>\n",
       "      <th>mileage</th>\n",
       "      <th>colour</th>\n",
       "      <th>city_mpg</th>\n",
       "      <th>highway_mpg</th>\n",
       "    </tr>\n",
       "  </thead>\n",
       "  <tbody>\n",
       "    <tr>\n",
       "      <th>0</th>\n",
       "      <td>2013</td>\n",
       "      <td>Mustang</td>\n",
       "      <td>Ecoboost</td>\n",
       "      <td>10595</td>\n",
       "      <td>52412</td>\n",
       "      <td>Red</td>\n",
       "      <td>19</td>\n",
       "      <td>19</td>\n",
       "    </tr>\n",
       "    <tr>\n",
       "      <th>1</th>\n",
       "      <td>2014</td>\n",
       "      <td>Mustang</td>\n",
       "      <td>Ecoboost</td>\n",
       "      <td>17950</td>\n",
       "      <td>91875</td>\n",
       "      <td>Black</td>\n",
       "      <td>19</td>\n",
       "      <td>19</td>\n",
       "    </tr>\n",
       "    <tr>\n",
       "      <th>2</th>\n",
       "      <td>2005</td>\n",
       "      <td>Mustang</td>\n",
       "      <td>Premium</td>\n",
       "      <td>9690</td>\n",
       "      <td>92385</td>\n",
       "      <td>Sonic Blue Metallic</td>\n",
       "      <td>19</td>\n",
       "      <td>19</td>\n",
       "    </tr>\n",
       "    <tr>\n",
       "      <th>3</th>\n",
       "      <td>2009</td>\n",
       "      <td>Mustang</td>\n",
       "      <td>GT</td>\n",
       "      <td>13969</td>\n",
       "      <td>97789</td>\n",
       "      <td>Dark Candy Apple Red</td>\n",
       "      <td>15</td>\n",
       "      <td>15</td>\n",
       "    </tr>\n",
       "    <tr>\n",
       "      <th>4</th>\n",
       "      <td>2014</td>\n",
       "      <td>Mustang</td>\n",
       "      <td>GT</td>\n",
       "      <td>32990</td>\n",
       "      <td>18781</td>\n",
       "      <td>Silver</td>\n",
       "      <td>15</td>\n",
       "      <td>15</td>\n",
       "    </tr>\n",
       "  </tbody>\n",
       "</table>\n",
       "</div>"
      ],
      "text/plain": [
       "   Year    Model      Type  price  mileage                colour  city_mpg  \\\n",
       "0  2013  Mustang  Ecoboost  10595    52412                   Red        19   \n",
       "1  2014  Mustang  Ecoboost  17950    91875                 Black        19   \n",
       "2  2005  Mustang   Premium   9690    92385   Sonic Blue Metallic        19   \n",
       "3  2009  Mustang        GT  13969    97789  Dark Candy Apple Red        15   \n",
       "4  2014  Mustang        GT  32990    18781                Silver        15   \n",
       "\n",
       "   highway_mpg  \n",
       "0           19  \n",
       "1           19  \n",
       "2           19  \n",
       "3           15  \n",
       "4           15  "
      ]
     },
     "execution_count": 181,
     "metadata": {},
     "output_type": "execute_result"
    }
   ],
   "source": [
    "df = df.drop(['contact', 'id', 'Pin code', 'Area'], axis = 1)\n",
    "df.head()"
   ]
  },
  {
   "cell_type": "code",
   "execution_count": 182,
   "metadata": {
    "colab": {
     "base_uri": "https://localhost:8080/",
     "height": 352
    },
    "id": "nRPpwLfGNL8K",
    "outputId": "0dd515be-7a51-4b3a-f719-d60211b80efc"
   },
   "outputs": [
    {
     "data": {
      "text/html": [
       "<div>\n",
       "<style scoped>\n",
       "    .dataframe tbody tr th:only-of-type {\n",
       "        vertical-align: middle;\n",
       "    }\n",
       "\n",
       "    .dataframe tbody tr th {\n",
       "        vertical-align: top;\n",
       "    }\n",
       "\n",
       "    .dataframe thead th {\n",
       "        text-align: right;\n",
       "    }\n",
       "</style>\n",
       "<table border=\"1\" class=\"dataframe\">\n",
       "  <thead>\n",
       "    <tr style=\"text-align: right;\">\n",
       "      <th></th>\n",
       "      <th>Year</th>\n",
       "      <th>Model</th>\n",
       "      <th>Type</th>\n",
       "      <th>price</th>\n",
       "      <th>mileage</th>\n",
       "      <th>colour</th>\n",
       "      <th>city_mpg</th>\n",
       "      <th>highway_mpg</th>\n",
       "    </tr>\n",
       "  </thead>\n",
       "  <tbody>\n",
       "    <tr>\n",
       "      <th>0</th>\n",
       "      <td>2013</td>\n",
       "      <td>Mustang</td>\n",
       "      <td>ecoboost</td>\n",
       "      <td>10595</td>\n",
       "      <td>52412</td>\n",
       "      <td>red</td>\n",
       "      <td>19</td>\n",
       "      <td>19</td>\n",
       "    </tr>\n",
       "    <tr>\n",
       "      <th>1</th>\n",
       "      <td>2014</td>\n",
       "      <td>Mustang</td>\n",
       "      <td>ecoboost</td>\n",
       "      <td>17950</td>\n",
       "      <td>91875</td>\n",
       "      <td>black</td>\n",
       "      <td>19</td>\n",
       "      <td>19</td>\n",
       "    </tr>\n",
       "    <tr>\n",
       "      <th>2</th>\n",
       "      <td>2005</td>\n",
       "      <td>Mustang</td>\n",
       "      <td>premium</td>\n",
       "      <td>9690</td>\n",
       "      <td>92385</td>\n",
       "      <td>sonic blue metallic</td>\n",
       "      <td>19</td>\n",
       "      <td>19</td>\n",
       "    </tr>\n",
       "    <tr>\n",
       "      <th>3</th>\n",
       "      <td>2009</td>\n",
       "      <td>Mustang</td>\n",
       "      <td>gt</td>\n",
       "      <td>13969</td>\n",
       "      <td>97789</td>\n",
       "      <td>dark candy apple red</td>\n",
       "      <td>15</td>\n",
       "      <td>15</td>\n",
       "    </tr>\n",
       "    <tr>\n",
       "      <th>4</th>\n",
       "      <td>2014</td>\n",
       "      <td>Mustang</td>\n",
       "      <td>gt</td>\n",
       "      <td>32990</td>\n",
       "      <td>18781</td>\n",
       "      <td>silver</td>\n",
       "      <td>15</td>\n",
       "      <td>15</td>\n",
       "    </tr>\n",
       "  </tbody>\n",
       "</table>\n",
       "</div>"
      ],
      "text/plain": [
       "   Year    Model      Type  price  mileage                colour  city_mpg  \\\n",
       "0  2013  Mustang  ecoboost  10595    52412                   red        19   \n",
       "1  2014  Mustang  ecoboost  17950    91875                 black        19   \n",
       "2  2005  Mustang   premium   9690    92385   sonic blue metallic        19   \n",
       "3  2009  Mustang        gt  13969    97789  dark candy apple red        15   \n",
       "4  2014  Mustang        gt  32990    18781                silver        15   \n",
       "\n",
       "   highway_mpg  \n",
       "0           19  \n",
       "1           19  \n",
       "2           19  \n",
       "3           15  \n",
       "4           15  "
      ]
     },
     "execution_count": 182,
     "metadata": {},
     "output_type": "execute_result"
    }
   ],
   "source": [
    "df['colour'] = df['colour'].str.lower()\n",
    "df['Type'] = df['Type'].str.lower()\n",
    "df.head()"
   ]
  },
  {
   "cell_type": "code",
   "execution_count": 183,
   "metadata": {
    "scrolled": true
   },
   "outputs": [
    {
     "data": {
      "text/plain": [
       "Mustang    7743\n",
       "SHELBY      648\n",
       "Name: Model, dtype: int64"
      ]
     },
     "execution_count": 183,
     "metadata": {},
     "output_type": "execute_result"
    }
   ],
   "source": [
    "df['Model'].value_counts()"
   ]
  },
  {
   "cell_type": "code",
   "execution_count": 184,
   "metadata": {},
   "outputs": [
    {
     "data": {
      "text/plain": [
       "gt          3939\n",
       "ecoboost    1866\n",
       "mach-e      1037\n",
       "premium      768\n",
       "gt500        417\n",
       "gt350        221\n",
       "bullitt       79\n",
       "boss          54\n",
       "standard      10\n",
       "Name: Type, dtype: int64"
      ]
     },
     "execution_count": 184,
     "metadata": {},
     "output_type": "execute_result"
    }
   ],
   "source": [
    "df['Type'].value_counts()"
   ]
  },
  {
   "cell_type": "code",
   "execution_count": 185,
   "metadata": {},
   "outputs": [
    {
     "data": {
      "text/plain": [
       "shadow black                           1061\n",
       "black                                   917\n",
       "oxford white                            570\n",
       "red                                     477\n",
       "white                                   435\n",
       "blue                                    375\n",
       "gray                                    369\n",
       "race red                                338\n",
       "magnetic metallic                       307\n",
       "magnetic                                258\n",
       "silver                                  251\n",
       "ingot silver metallic                   163\n",
       "iconic silver metallic                  147\n",
       "ruby red metallic tinted clearcoat      146\n",
       "orange                                  134\n",
       "rapid red metallic tinted clearcoat     132\n",
       "star white                              130\n",
       "carbonized gray metallic                125\n",
       "kona blue metallic                      123\n",
       "grabber blue                             97\n",
       "Name: colour, dtype: int64"
      ]
     },
     "execution_count": 185,
     "metadata": {},
     "output_type": "execute_result"
    }
   ],
   "source": [
    "df['colour'].value_counts().head(20)"
   ]
  },
  {
   "cell_type": "code",
   "execution_count": 186,
   "metadata": {},
   "outputs": [
    {
     "data": {
      "text/html": [
       "<div>\n",
       "<style scoped>\n",
       "    .dataframe tbody tr th:only-of-type {\n",
       "        vertical-align: middle;\n",
       "    }\n",
       "\n",
       "    .dataframe tbody tr th {\n",
       "        vertical-align: top;\n",
       "    }\n",
       "\n",
       "    .dataframe thead th {\n",
       "        text-align: right;\n",
       "    }\n",
       "</style>\n",
       "<table border=\"1\" class=\"dataframe\">\n",
       "  <thead>\n",
       "    <tr style=\"text-align: right;\">\n",
       "      <th></th>\n",
       "      <th>Year</th>\n",
       "      <th>Model</th>\n",
       "      <th>Type</th>\n",
       "      <th>price</th>\n",
       "      <th>mileage</th>\n",
       "      <th>colour</th>\n",
       "      <th>city_mpg</th>\n",
       "      <th>highway_mpg</th>\n",
       "    </tr>\n",
       "  </thead>\n",
       "  <tbody>\n",
       "    <tr>\n",
       "      <th>0</th>\n",
       "      <td>2013</td>\n",
       "      <td>Mustang</td>\n",
       "      <td>ecoboost</td>\n",
       "      <td>10595</td>\n",
       "      <td>52412</td>\n",
       "      <td>red</td>\n",
       "      <td>19</td>\n",
       "      <td>19</td>\n",
       "    </tr>\n",
       "    <tr>\n",
       "      <th>1</th>\n",
       "      <td>2014</td>\n",
       "      <td>Mustang</td>\n",
       "      <td>ecoboost</td>\n",
       "      <td>17950</td>\n",
       "      <td>91875</td>\n",
       "      <td>black</td>\n",
       "      <td>19</td>\n",
       "      <td>19</td>\n",
       "    </tr>\n",
       "    <tr>\n",
       "      <th>2</th>\n",
       "      <td>2005</td>\n",
       "      <td>Mustang</td>\n",
       "      <td>premium</td>\n",
       "      <td>9690</td>\n",
       "      <td>92385</td>\n",
       "      <td>sonic blue metallic</td>\n",
       "      <td>19</td>\n",
       "      <td>19</td>\n",
       "    </tr>\n",
       "    <tr>\n",
       "      <th>3</th>\n",
       "      <td>2009</td>\n",
       "      <td>Mustang</td>\n",
       "      <td>gt</td>\n",
       "      <td>13969</td>\n",
       "      <td>97789</td>\n",
       "      <td>dark candy apple red</td>\n",
       "      <td>15</td>\n",
       "      <td>15</td>\n",
       "    </tr>\n",
       "    <tr>\n",
       "      <th>4</th>\n",
       "      <td>2014</td>\n",
       "      <td>Mustang</td>\n",
       "      <td>gt</td>\n",
       "      <td>32990</td>\n",
       "      <td>18781</td>\n",
       "      <td>silver</td>\n",
       "      <td>15</td>\n",
       "      <td>15</td>\n",
       "    </tr>\n",
       "  </tbody>\n",
       "</table>\n",
       "</div>"
      ],
      "text/plain": [
       "   Year    Model      Type  price  mileage                colour  city_mpg  \\\n",
       "0  2013  Mustang  ecoboost  10595    52412                   red        19   \n",
       "1  2014  Mustang  ecoboost  17950    91875                 black        19   \n",
       "2  2005  Mustang   premium   9690    92385   sonic blue metallic        19   \n",
       "3  2009  Mustang        gt  13969    97789  dark candy apple red        15   \n",
       "4  2014  Mustang        gt  32990    18781                silver        15   \n",
       "\n",
       "   highway_mpg  \n",
       "0           19  \n",
       "1           19  \n",
       "2           19  \n",
       "3           15  \n",
       "4           15  "
      ]
     },
     "execution_count": 186,
     "metadata": {},
     "output_type": "execute_result"
    }
   ],
   "source": [
    "df['colour'] = df['colour'].str.rstrip()\n",
    "df['colour'] = df['colour'].str.lstrip()\n",
    "df.head()"
   ]
  },
  {
   "cell_type": "code",
   "execution_count": 187,
   "metadata": {},
   "outputs": [
    {
     "data": {
      "text/html": [
       "<div>\n",
       "<style scoped>\n",
       "    .dataframe tbody tr th:only-of-type {\n",
       "        vertical-align: middle;\n",
       "    }\n",
       "\n",
       "    .dataframe tbody tr th {\n",
       "        vertical-align: top;\n",
       "    }\n",
       "\n",
       "    .dataframe thead th {\n",
       "        text-align: right;\n",
       "    }\n",
       "</style>\n",
       "<table border=\"1\" class=\"dataframe\">\n",
       "  <thead>\n",
       "    <tr style=\"text-align: right;\">\n",
       "      <th></th>\n",
       "      <th>Year</th>\n",
       "      <th>Model</th>\n",
       "      <th>Type</th>\n",
       "      <th>price</th>\n",
       "      <th>mileage</th>\n",
       "      <th>colour</th>\n",
       "      <th>city_mpg</th>\n",
       "      <th>highway_mpg</th>\n",
       "      <th>car_colour</th>\n",
       "    </tr>\n",
       "  </thead>\n",
       "  <tbody>\n",
       "    <tr>\n",
       "      <th>0</th>\n",
       "      <td>2013</td>\n",
       "      <td>Mustang</td>\n",
       "      <td>ecoboost</td>\n",
       "      <td>10595</td>\n",
       "      <td>52412</td>\n",
       "      <td>red</td>\n",
       "      <td>19</td>\n",
       "      <td>19</td>\n",
       "      <td>red</td>\n",
       "    </tr>\n",
       "    <tr>\n",
       "      <th>1</th>\n",
       "      <td>2014</td>\n",
       "      <td>Mustang</td>\n",
       "      <td>ecoboost</td>\n",
       "      <td>17950</td>\n",
       "      <td>91875</td>\n",
       "      <td>black</td>\n",
       "      <td>19</td>\n",
       "      <td>19</td>\n",
       "      <td>black</td>\n",
       "    </tr>\n",
       "    <tr>\n",
       "      <th>2</th>\n",
       "      <td>2005</td>\n",
       "      <td>Mustang</td>\n",
       "      <td>premium</td>\n",
       "      <td>9690</td>\n",
       "      <td>92385</td>\n",
       "      <td>sonic blue metallic</td>\n",
       "      <td>19</td>\n",
       "      <td>19</td>\n",
       "      <td>blue</td>\n",
       "    </tr>\n",
       "    <tr>\n",
       "      <th>3</th>\n",
       "      <td>2009</td>\n",
       "      <td>Mustang</td>\n",
       "      <td>gt</td>\n",
       "      <td>13969</td>\n",
       "      <td>97789</td>\n",
       "      <td>dark candy apple red</td>\n",
       "      <td>15</td>\n",
       "      <td>15</td>\n",
       "      <td>red</td>\n",
       "    </tr>\n",
       "    <tr>\n",
       "      <th>4</th>\n",
       "      <td>2014</td>\n",
       "      <td>Mustang</td>\n",
       "      <td>gt</td>\n",
       "      <td>32990</td>\n",
       "      <td>18781</td>\n",
       "      <td>silver</td>\n",
       "      <td>15</td>\n",
       "      <td>15</td>\n",
       "      <td>silver</td>\n",
       "    </tr>\n",
       "    <tr>\n",
       "      <th>5</th>\n",
       "      <td>2011</td>\n",
       "      <td>Mustang</td>\n",
       "      <td>gt</td>\n",
       "      <td>24500</td>\n",
       "      <td>44916</td>\n",
       "      <td>black</td>\n",
       "      <td>17</td>\n",
       "      <td>17</td>\n",
       "      <td>black</td>\n",
       "    </tr>\n",
       "    <tr>\n",
       "      <th>6</th>\n",
       "      <td>2013</td>\n",
       "      <td>Mustang</td>\n",
       "      <td>ecoboost</td>\n",
       "      <td>13988</td>\n",
       "      <td>102821</td>\n",
       "      <td>ingot silver metallic</td>\n",
       "      <td>19</td>\n",
       "      <td>19</td>\n",
       "      <td>silver</td>\n",
       "    </tr>\n",
       "    <tr>\n",
       "      <th>7</th>\n",
       "      <td>2013</td>\n",
       "      <td>Mustang</td>\n",
       "      <td>ecoboost</td>\n",
       "      <td>16850</td>\n",
       "      <td>83153</td>\n",
       "      <td>red</td>\n",
       "      <td>19</td>\n",
       "      <td>19</td>\n",
       "      <td>red</td>\n",
       "    </tr>\n",
       "    <tr>\n",
       "      <th>8</th>\n",
       "      <td>2013</td>\n",
       "      <td>Mustang</td>\n",
       "      <td>gt</td>\n",
       "      <td>25990</td>\n",
       "      <td>75662</td>\n",
       "      <td>gray</td>\n",
       "      <td>15</td>\n",
       "      <td>15</td>\n",
       "      <td>gray</td>\n",
       "    </tr>\n",
       "    <tr>\n",
       "      <th>9</th>\n",
       "      <td>2010</td>\n",
       "      <td>Mustang</td>\n",
       "      <td>ecoboost</td>\n",
       "      <td>9998</td>\n",
       "      <td>121219</td>\n",
       "      <td>kona blue metallic</td>\n",
       "      <td>18</td>\n",
       "      <td>18</td>\n",
       "      <td>blue</td>\n",
       "    </tr>\n",
       "  </tbody>\n",
       "</table>\n",
       "</div>"
      ],
      "text/plain": [
       "   Year    Model      Type  price  mileage                 colour  city_mpg  \\\n",
       "0  2013  Mustang  ecoboost  10595    52412                    red        19   \n",
       "1  2014  Mustang  ecoboost  17950    91875                  black        19   \n",
       "2  2005  Mustang   premium   9690    92385    sonic blue metallic        19   \n",
       "3  2009  Mustang        gt  13969    97789   dark candy apple red        15   \n",
       "4  2014  Mustang        gt  32990    18781                 silver        15   \n",
       "5  2011  Mustang        gt  24500    44916                  black        17   \n",
       "6  2013  Mustang  ecoboost  13988   102821  ingot silver metallic        19   \n",
       "7  2013  Mustang  ecoboost  16850    83153                    red        19   \n",
       "8  2013  Mustang        gt  25990    75662                   gray        15   \n",
       "9  2010  Mustang  ecoboost   9998   121219     kona blue metallic        18   \n",
       "\n",
       "   highway_mpg car_colour  \n",
       "0           19        red  \n",
       "1           19      black  \n",
       "2           19       blue  \n",
       "3           15        red  \n",
       "4           15     silver  \n",
       "5           17      black  \n",
       "6           19     silver  \n",
       "7           19        red  \n",
       "8           15       gray  \n",
       "9           18       blue  "
      ]
     },
     "execution_count": 187,
     "metadata": {},
     "output_type": "execute_result"
    }
   ],
   "source": [
    "df[\"car_colour\"] = df[\"colour\"].map(lambda x: 'red' if 'red' in x else \n",
    "                                         'black' if 'black' in x else \n",
    "                                         'blue' if 'blue' in x else\n",
    "                                         'white' if 'white' in x else \n",
    "                                         'silver' if 'silver' in x else\n",
    "                                         'magnetic' if 'magnetic' in x else\n",
    "                                         'gray' if 'gray' in x else\n",
    "                                         'orange' if 'orange' in x else\n",
    "                                         'green' if 'green' in x else\n",
    "                                         'yellow' if 'yellow' in x else\n",
    "                                         'marron' if 'maroon' in x else\n",
    "                                         'other')\n",
    "df.head(10)"
   ]
  },
  {
   "cell_type": "code",
   "execution_count": 188,
   "metadata": {},
   "outputs": [
    {
     "data": {
      "text/plain": [
       "black       2020\n",
       "white       1353\n",
       "red         1344\n",
       "blue        1149\n",
       "silver       704\n",
       "gray         627\n",
       "magnetic     567\n",
       "orange       210\n",
       "other        168\n",
       "green        166\n",
       "yellow        70\n",
       "marron        13\n",
       "Name: car_colour, dtype: int64"
      ]
     },
     "execution_count": 188,
     "metadata": {},
     "output_type": "execute_result"
    }
   ],
   "source": [
    "df['car_colour'].value_counts().head(20)"
   ]
  },
  {
   "cell_type": "code",
   "execution_count": 189,
   "metadata": {},
   "outputs": [
    {
     "data": {
      "text/plain": [
       "gt          3939\n",
       "ecoboost    1866\n",
       "mach-e      1037\n",
       "premium      768\n",
       "gt500        417\n",
       "gt350        221\n",
       "bullitt       79\n",
       "boss          54\n",
       "standard      10\n",
       "Name: Type, dtype: int64"
      ]
     },
     "execution_count": 189,
     "metadata": {},
     "output_type": "execute_result"
    }
   ],
   "source": [
    "df['Type'].value_counts().head(20)"
   ]
  },
  {
   "cell_type": "code",
   "execution_count": 190,
   "metadata": {},
   "outputs": [
    {
     "data": {
      "text/html": [
       "<div>\n",
       "<style scoped>\n",
       "    .dataframe tbody tr th:only-of-type {\n",
       "        vertical-align: middle;\n",
       "    }\n",
       "\n",
       "    .dataframe tbody tr th {\n",
       "        vertical-align: top;\n",
       "    }\n",
       "\n",
       "    .dataframe thead th {\n",
       "        text-align: right;\n",
       "    }\n",
       "</style>\n",
       "<table border=\"1\" class=\"dataframe\">\n",
       "  <thead>\n",
       "    <tr style=\"text-align: right;\">\n",
       "      <th></th>\n",
       "      <th>Year</th>\n",
       "      <th>Model</th>\n",
       "      <th>Type</th>\n",
       "      <th>price</th>\n",
       "      <th>mileage</th>\n",
       "      <th>city_mpg</th>\n",
       "      <th>highway_mpg</th>\n",
       "      <th>car_colour</th>\n",
       "    </tr>\n",
       "  </thead>\n",
       "  <tbody>\n",
       "    <tr>\n",
       "      <th>0</th>\n",
       "      <td>2013</td>\n",
       "      <td>Mustang</td>\n",
       "      <td>ecoboost</td>\n",
       "      <td>10595</td>\n",
       "      <td>52412</td>\n",
       "      <td>19</td>\n",
       "      <td>19</td>\n",
       "      <td>red</td>\n",
       "    </tr>\n",
       "    <tr>\n",
       "      <th>1</th>\n",
       "      <td>2014</td>\n",
       "      <td>Mustang</td>\n",
       "      <td>ecoboost</td>\n",
       "      <td>17950</td>\n",
       "      <td>91875</td>\n",
       "      <td>19</td>\n",
       "      <td>19</td>\n",
       "      <td>black</td>\n",
       "    </tr>\n",
       "    <tr>\n",
       "      <th>2</th>\n",
       "      <td>2005</td>\n",
       "      <td>Mustang</td>\n",
       "      <td>premium</td>\n",
       "      <td>9690</td>\n",
       "      <td>92385</td>\n",
       "      <td>19</td>\n",
       "      <td>19</td>\n",
       "      <td>blue</td>\n",
       "    </tr>\n",
       "    <tr>\n",
       "      <th>3</th>\n",
       "      <td>2009</td>\n",
       "      <td>Mustang</td>\n",
       "      <td>gt</td>\n",
       "      <td>13969</td>\n",
       "      <td>97789</td>\n",
       "      <td>15</td>\n",
       "      <td>15</td>\n",
       "      <td>red</td>\n",
       "    </tr>\n",
       "    <tr>\n",
       "      <th>4</th>\n",
       "      <td>2014</td>\n",
       "      <td>Mustang</td>\n",
       "      <td>gt</td>\n",
       "      <td>32990</td>\n",
       "      <td>18781</td>\n",
       "      <td>15</td>\n",
       "      <td>15</td>\n",
       "      <td>silver</td>\n",
       "    </tr>\n",
       "  </tbody>\n",
       "</table>\n",
       "</div>"
      ],
      "text/plain": [
       "   Year    Model      Type  price  mileage  city_mpg  highway_mpg car_colour\n",
       "0  2013  Mustang  ecoboost  10595    52412        19           19        red\n",
       "1  2014  Mustang  ecoboost  17950    91875        19           19      black\n",
       "2  2005  Mustang   premium   9690    92385        19           19       blue\n",
       "3  2009  Mustang        gt  13969    97789        15           15        red\n",
       "4  2014  Mustang        gt  32990    18781        15           15     silver"
      ]
     },
     "execution_count": 190,
     "metadata": {},
     "output_type": "execute_result"
    }
   ],
   "source": [
    "df = df.drop(['colour'], axis = 1)\n",
    "df.head()"
   ]
  },
  {
   "cell_type": "code",
   "execution_count": 191,
   "metadata": {},
   "outputs": [],
   "source": [
    "df.to_csv('Cleaned_data.csv')"
   ]
  },
  {
   "cell_type": "code",
   "execution_count": 192,
   "metadata": {},
   "outputs": [
    {
     "data": {
      "text/html": [
       "<div>\n",
       "<style scoped>\n",
       "    .dataframe tbody tr th:only-of-type {\n",
       "        vertical-align: middle;\n",
       "    }\n",
       "\n",
       "    .dataframe tbody tr th {\n",
       "        vertical-align: top;\n",
       "    }\n",
       "\n",
       "    .dataframe thead th {\n",
       "        text-align: right;\n",
       "    }\n",
       "</style>\n",
       "<table border=\"1\" class=\"dataframe\">\n",
       "  <thead>\n",
       "    <tr style=\"text-align: right;\">\n",
       "      <th></th>\n",
       "      <th>Year</th>\n",
       "      <th>Model</th>\n",
       "      <th>Type</th>\n",
       "      <th>price</th>\n",
       "      <th>mileage</th>\n",
       "      <th>city_mpg</th>\n",
       "      <th>highway_mpg</th>\n",
       "      <th>car_colour</th>\n",
       "    </tr>\n",
       "  </thead>\n",
       "  <tbody>\n",
       "    <tr>\n",
       "      <th>0</th>\n",
       "      <td>2013</td>\n",
       "      <td>0.0</td>\n",
       "      <td>2.0</td>\n",
       "      <td>10595</td>\n",
       "      <td>52412</td>\n",
       "      <td>19</td>\n",
       "      <td>19</td>\n",
       "      <td>8.0</td>\n",
       "    </tr>\n",
       "    <tr>\n",
       "      <th>1</th>\n",
       "      <td>2014</td>\n",
       "      <td>0.0</td>\n",
       "      <td>2.0</td>\n",
       "      <td>17950</td>\n",
       "      <td>91875</td>\n",
       "      <td>19</td>\n",
       "      <td>19</td>\n",
       "      <td>0.0</td>\n",
       "    </tr>\n",
       "    <tr>\n",
       "      <th>2</th>\n",
       "      <td>2005</td>\n",
       "      <td>0.0</td>\n",
       "      <td>7.0</td>\n",
       "      <td>9690</td>\n",
       "      <td>92385</td>\n",
       "      <td>19</td>\n",
       "      <td>19</td>\n",
       "      <td>1.0</td>\n",
       "    </tr>\n",
       "    <tr>\n",
       "      <th>3</th>\n",
       "      <td>2009</td>\n",
       "      <td>0.0</td>\n",
       "      <td>3.0</td>\n",
       "      <td>13969</td>\n",
       "      <td>97789</td>\n",
       "      <td>15</td>\n",
       "      <td>15</td>\n",
       "      <td>8.0</td>\n",
       "    </tr>\n",
       "    <tr>\n",
       "      <th>4</th>\n",
       "      <td>2014</td>\n",
       "      <td>0.0</td>\n",
       "      <td>3.0</td>\n",
       "      <td>32990</td>\n",
       "      <td>18781</td>\n",
       "      <td>15</td>\n",
       "      <td>15</td>\n",
       "      <td>9.0</td>\n",
       "    </tr>\n",
       "  </tbody>\n",
       "</table>\n",
       "</div>"
      ],
      "text/plain": [
       "   Year  Model  Type  price  mileage  city_mpg  highway_mpg  car_colour\n",
       "0  2013    0.0   2.0  10595    52412        19           19         8.0\n",
       "1  2014    0.0   2.0  17950    91875        19           19         0.0\n",
       "2  2005    0.0   7.0   9690    92385        19           19         1.0\n",
       "3  2009    0.0   3.0  13969    97789        15           15         8.0\n",
       "4  2014    0.0   3.0  32990    18781        15           15         9.0"
      ]
     },
     "execution_count": 192,
     "metadata": {},
     "output_type": "execute_result"
    }
   ],
   "source": [
    "from sklearn.preprocessing import OrdinalEncoder\n",
    "\n",
    "ordinal_encoder = OrdinalEncoder()\n",
    "df['Model'] = ordinal_encoder.fit_transform(df[['Model']])\n",
    "df['car_colour'] = ordinal_encoder.fit_transform(df[['car_colour']])\n",
    "df['Type'] = ordinal_encoder.fit_transform(df[['Type']])\n",
    "df.head()"
   ]
  },
  {
   "cell_type": "code",
   "execution_count": 217,
   "metadata": {},
   "outputs": [
    {
     "name": "stdout",
     "output_type": "stream",
     "text": [
      "9577.463940871663\n"
     ]
    },
    {
     "name": "stderr",
     "output_type": "stream",
     "text": [
      "/Users/gowtham_babu/Desktop/tf/env/lib/python3.9/site-packages/seaborn/distributions.py:2619: FutureWarning: `distplot` is a deprecated function and will be removed in a future version. Please adapt your code to use either `displot` (a figure-level function with similar flexibility) or `histplot` (an axes-level function for histograms).\n",
      "  warnings.warn(msg, FutureWarning)\n"
     ]
    },
    {
     "data": {
      "text/plain": [
       "<AxesSubplot:xlabel='price', ylabel='Density'>"
      ]
     },
     "execution_count": 217,
     "metadata": {},
     "output_type": "execute_result"
    },
    {
     "data": {
      "image/png": "[encoded data removed]",
      "text/plain": [
       "<Figure size 432x288 with 1 Axes>"
      ]
     },
     "metadata": {
      "needs_background": "light"
     },
     "output_type": "display_data"
    }
   ],
   "source": [
    "y = df['price']\n",
    "X = df.drop(['price'], axis = 1)\n",
    "\n",
    "from sklearn.model_selection import train_test_split\n",
    "X_train, X_test, y_train, y_test = train_test_split(X, y, test_size=0.3, random_state=42)\n",
    "\n",
    "\n",
    "from sklearn.ensemble import RandomForestRegressor\n",
    "\n",
    "tree_reg = RandomForestRegressor(random_state=42)\n",
    "tree_reg.fit(X_train, y_train)\n",
    "\n",
    "from sklearn.metrics import mean_squared_error\n",
    "final_predictions = tree_reg.predict(X_test)\n",
    "final_mse = mean_squared_error(y_test, final_predictions)\n",
    "\n",
    "\n",
    "print(final_mse**0.5)\n",
    "sns.distplot(y_test - final_predictions)"
   ]
  },
  {
   "cell_type": "raw",
   "metadata": {},
   "source": [
    "from sklearn.preprocessing import StandardScaler\n",
    "standardScaler = StandardScaler()\n",
    "columns_to_scale = ['Year', 'mileage', 'city_mpg', 'highway_mpg', 'Model', 'Type', 'car_colour']\n",
    "\n",
    "df[columns_to_scale] = standardScaler.fit_transform(df[columns_to_scale])\n",
    "\n",
    "df"
   ]
  },
  {
   "cell_type": "markdown",
   "metadata": {
    "id": "H7857ELmNL8K"
   },
   "source": [
    "#### create a baseline model"
   ]
  },
  {
   "cell_type": "code",
   "execution_count": 18,
   "metadata": {
    "colab": {
     "base_uri": "https://localhost:8080/",
     "height": 368
    },
    "id": "iSNnJax2NL8K",
    "outputId": "fd13f70d-8a8f-454e-9931-9c40e6001f26",
    "scrolled": false
   },
   "outputs": [
    {
     "name": "stdout",
     "output_type": "stream",
     "text": [
      "9571.217044580011\n"
     ]
    },
    {
     "name": "stderr",
     "output_type": "stream",
     "text": [
      "/Users/gowtham_babu/Desktop/tf/env/lib/python3.9/site-packages/seaborn/distributions.py:2619: FutureWarning: `distplot` is a deprecated function and will be removed in a future version. Please adapt your code to use either `displot` (a figure-level function with similar flexibility) or `histplot` (an axes-level function for histograms).\n",
      "  warnings.warn(msg, FutureWarning)\n"
     ]
    },
    {
     "data": {
      "text/plain": [
       "<AxesSubplot:xlabel='price', ylabel='Density'>"
      ]
     },
     "execution_count": 18,
     "metadata": {},
     "output_type": "execute_result"
    },
    {
     "data": {
      "image/png": "[encoded data removed]",
      "text/plain": [
       "<Figure size 432x288 with 1 Axes>"
      ]
     },
     "metadata": {
      "needs_background": "light"
     },
     "output_type": "display_data"
    }
   ],
   "source": [
    "y = df['price']\n",
    "X = df.drop(['price'], axis = 1)\n",
    "\n",
    "from sklearn.model_selection import train_test_split\n",
    "X_train, X_test, y_train, y_test = train_test_split(X, y, test_size=0.3, random_state=42)\n",
    "\n",
    "\n",
    "from sklearn.ensemble import RandomForestRegressor\n",
    "\n",
    "tree_reg = RandomForestRegressor(random_state=42)\n",
    "tree_reg.fit(X_train, y_train)\n",
    "\n",
    "from sklearn.metrics import mean_squared_error\n",
    "final_predictions = tree_reg.predict(X_test)\n",
    "final_mse = mean_squared_error(y_test, final_predictions)\n",
    "\n",
    "print(final_mse**0.5)\n",
    "sns.distplot(y_test - final_predictions)"
   ]
  },
  {
   "cell_type": "code",
   "execution_count": 19,
   "metadata": {
    "id": "F2sTFpF8NL8L",
    "outputId": "e4e494f2-85e0-43a0-efe9-1c91050c8552"
   },
   "outputs": [
    {
     "data": {
      "text/plain": [
       "[(0.5545652245311251, 'price'),\n",
       " (0.19263105537847725, 'mileage'),\n",
       " (0.07520851847269366, 'Year'),\n",
       " (0.05765842434048786, 'Model'),\n",
       " (0.05685258571008833, 'highway_mpg'),\n",
       " (0.033609559339016305, 'Type'),\n",
       " (0.029474632228111513, 'city_mpg')]"
      ]
     },
     "execution_count": 19,
     "metadata": {},
     "output_type": "execute_result"
    }
   ],
   "source": [
    "importance = tree_reg.feature_importances_\n",
    "\n",
    "    \n",
    "ft = list(zip(df.columns, importance.tolist()))\n",
    "\n",
    "sorted(zip(importance, df.columns), reverse=True)[:10]"
   ]
  },
  {
   "cell_type": "markdown",
   "metadata": {
    "id": "p0_4D0NINL8L"
   },
   "source": [
    "since, there might not be a huge importance of the remaining features, we can drop some of the columns before going to buiding a big model"
   ]
  },
  {
   "cell_type": "markdown",
   "metadata": {
    "id": "Ia2iNovWNL8L"
   },
   "source": [
    "##### Grid Search "
   ]
  },
  {
   "cell_type": "code",
   "execution_count": 20,
   "metadata": {
    "collapsed": true,
    "id": "HHQK4TwhNL8L",
    "outputId": "4e10d1b5-0361-4315-b8e9-6ce5f14cd935"
   },
   "outputs": [
    {
     "name": "stderr",
     "output_type": "stream",
     "text": [
      "/Users/gowtham_babu/Desktop/tf/env/lib/python3.9/site-packages/sklearn/model_selection/_validation.py:372: FitFailedWarning: \n",
      "165 fits failed out of a total of 510.\n",
      "The score on these train-test partitions for these parameters will be set to nan.\n",
      "If these failures are not expected, you can try to debug them by setting error_score='raise'.\n",
      "\n",
      "Below are more details about the failures:\n",
      "--------------------------------------------------------------------------------\n",
      "45 fits failed with the following error:\n",
      "Traceback (most recent call last):\n",
      "  File \"/Users/gowtham_babu/Desktop/tf/env/lib/python3.9/site-packages/sklearn/model_selection/_validation.py\", line 681, in _fit_and_score\n",
      "    estimator.fit(X_train, y_train, **fit_params)\n",
      "  File \"/Users/gowtham_babu/Desktop/tf/env/lib/python3.9/site-packages/sklearn/ensemble/_forest.py\", line 442, in fit\n",
      "    trees = Parallel(\n",
      "  File \"/Users/gowtham_babu/Desktop/tf/env/lib/python3.9/site-packages/joblib/parallel.py\", line 1043, in __call__\n",
      "    if self.dispatch_one_batch(iterator):\n",
      "  File \"/Users/gowtham_babu/Desktop/tf/env/lib/python3.9/site-packages/joblib/parallel.py\", line 861, in dispatch_one_batch\n",
      "    self._dispatch(tasks)\n",
      "  File \"/Users/gowtham_babu/Desktop/tf/env/lib/python3.9/site-packages/joblib/parallel.py\", line 779, in _dispatch\n",
      "    job = self._backend.apply_async(batch, callback=cb)\n",
      "  File \"/Users/gowtham_babu/Desktop/tf/env/lib/python3.9/site-packages/joblib/_parallel_backends.py\", line 208, in apply_async\n",
      "    result = ImmediateResult(func)\n",
      "  File \"/Users/gowtham_babu/Desktop/tf/env/lib/python3.9/site-packages/joblib/_parallel_backends.py\", line 572, in __init__\n",
      "    self.results = batch()\n",
      "  File \"/Users/gowtham_babu/Desktop/tf/env/lib/python3.9/site-packages/joblib/parallel.py\", line 262, in __call__\n",
      "    return [func(*args, **kwargs)\n",
      "  File \"/Users/gowtham_babu/Desktop/tf/env/lib/python3.9/site-packages/joblib/parallel.py\", line 262, in <listcomp>\n",
      "    return [func(*args, **kwargs)\n",
      "  File \"/Users/gowtham_babu/Desktop/tf/env/lib/python3.9/site-packages/sklearn/utils/fixes.py\", line 211, in __call__\n",
      "    return self.function(*args, **kwargs)\n",
      "  File \"/Users/gowtham_babu/Desktop/tf/env/lib/python3.9/site-packages/sklearn/ensemble/_forest.py\", line 185, in _parallel_build_trees\n",
      "    tree.fit(X, y, sample_weight=curr_sample_weight, check_input=False)\n",
      "  File \"/Users/gowtham_babu/Desktop/tf/env/lib/python3.9/site-packages/sklearn/tree/_classes.py\", line 1315, in fit\n",
      "    super().fit(\n",
      "  File \"/Users/gowtham_babu/Desktop/tf/env/lib/python3.9/site-packages/sklearn/tree/_classes.py\", line 308, in fit\n",
      "    raise ValueError(\"max_features must be in (0, n_features]\")\n",
      "ValueError: max_features must be in (0, n_features]\n",
      "\n",
      "--------------------------------------------------------------------------------\n",
      "120 fits failed with the following error:\n",
      "Traceback (most recent call last):\n",
      "  File \"/Users/gowtham_babu/Desktop/tf/env/lib/python3.9/site-packages/sklearn/model_selection/_validation.py\", line 681, in _fit_and_score\n",
      "    estimator.fit(X_train, y_train, **fit_params)\n",
      "  File \"/Users/gowtham_babu/Desktop/tf/env/lib/python3.9/site-packages/sklearn/ensemble/_forest.py\", line 442, in fit\n",
      "    trees = Parallel(\n",
      "  File \"/Users/gowtham_babu/Desktop/tf/env/lib/python3.9/site-packages/joblib/parallel.py\", line 1043, in __call__\n",
      "    if self.dispatch_one_batch(iterator):\n",
      "  File \"/Users/gowtham_babu/Desktop/tf/env/lib/python3.9/site-packages/joblib/parallel.py\", line 861, in dispatch_one_batch\n",
      "    self._dispatch(tasks)\n",
      "  File \"/Users/gowtham_babu/Desktop/tf/env/lib/python3.9/site-packages/joblib/parallel.py\", line 779, in _dispatch\n",
      "    job = self._backend.apply_async(batch, callback=cb)\n",
      "  File \"/Users/gowtham_babu/Desktop/tf/env/lib/python3.9/site-packages/joblib/_parallel_backends.py\", line 208, in apply_async\n",
      "    result = ImmediateResult(func)\n",
      "  File \"/Users/gowtham_babu/Desktop/tf/env/lib/python3.9/site-packages/joblib/_parallel_backends.py\", line 572, in __init__\n",
      "    self.results = batch()\n",
      "  File \"/Users/gowtham_babu/Desktop/tf/env/lib/python3.9/site-packages/joblib/parallel.py\", line 262, in __call__\n",
      "    return [func(*args, **kwargs)\n",
      "  File \"/Users/gowtham_babu/Desktop/tf/env/lib/python3.9/site-packages/joblib/parallel.py\", line 262, in <listcomp>\n",
      "    return [func(*args, **kwargs)\n",
      "  File \"/Users/gowtham_babu/Desktop/tf/env/lib/python3.9/site-packages/sklearn/utils/fixes.py\", line 211, in __call__\n",
      "    return self.function(*args, **kwargs)\n",
      "  File \"/Users/gowtham_babu/Desktop/tf/env/lib/python3.9/site-packages/sklearn/ensemble/_forest.py\", line 187, in _parallel_build_trees\n",
      "    tree.fit(X, y, sample_weight=sample_weight, check_input=False)\n",
      "  File \"/Users/gowtham_babu/Desktop/tf/env/lib/python3.9/site-packages/sklearn/tree/_classes.py\", line 1315, in fit\n",
      "    super().fit(\n",
      "  File \"/Users/gowtham_babu/Desktop/tf/env/lib/python3.9/site-packages/sklearn/tree/_classes.py\", line 308, in fit\n",
      "    raise ValueError(\"max_features must be in (0, n_features]\")\n",
      "ValueError: max_features must be in (0, n_features]\n",
      "\n",
      "  warnings.warn(some_fits_failed_message, FitFailedWarning)\n",
      "/Users/gowtham_babu/Desktop/tf/env/lib/python3.9/site-packages/sklearn/model_selection/_search.py:969: UserWarning: One or more of the test scores are non-finite: [-1.43276596e+08 -1.18170010e+08 -1.13764641e+08 -1.33470260e+08\n",
      " -1.09143205e+08 -1.03395124e+08 -1.27662033e+08 -1.07284088e+08\n",
      " -1.01029215e+08 -1.31779766e+08 -1.06724899e+08 -9.97914243e+07\n",
      " -1.23706861e+08 -1.01033705e+08 -9.91613139e+07 -1.22375549e+08\n",
      " -1.01189462e+08 -9.85222453e+07 -1.26943083e+08 -1.04218672e+08\n",
      " -9.87405174e+07             nan             nan             nan\n",
      "             nan             nan             nan             nan\n",
      "             nan             nan -1.40168151e+08 -1.34191420e+08\n",
      " -1.32573489e+08 -1.30141371e+08 -1.28141759e+08 -1.28279721e+08\n",
      " -1.27490712e+08 -1.25236949e+08 -1.35092258e+08 -1.25618677e+08\n",
      " -1.24569875e+08 -1.20565174e+08 -1.20544022e+08 -1.19728848e+08\n",
      " -1.18344819e+08 -1.18244018e+08 -1.37415452e+08 -1.35665806e+08\n",
      " -1.32293347e+08 -1.30757074e+08 -1.27923337e+08 -1.26101485e+08\n",
      " -1.25651516e+08 -1.24634392e+08 -1.37958821e+08 -1.34011431e+08\n",
      " -1.30501536e+08 -1.27669522e+08 -1.26286982e+08 -1.24411765e+08\n",
      " -1.24520225e+08 -1.23658432e+08 -1.29712895e+08 -1.26398350e+08\n",
      " -1.22525992e+08 -1.22417504e+08 -1.23162148e+08 -1.22702720e+08\n",
      " -1.23321459e+08 -1.23368684e+08 -1.45685394e+08 -1.45011337e+08\n",
      " -1.44217549e+08 -1.44087108e+08 -1.44127527e+08 -1.44134832e+08\n",
      " -1.44686879e+08 -1.44553294e+08             nan             nan\n",
      "             nan             nan             nan             nan\n",
      "             nan             nan             nan             nan\n",
      "             nan             nan             nan             nan\n",
      "             nan             nan             nan             nan\n",
      "             nan             nan             nan             nan\n",
      "             nan             nan]\n",
      "  warnings.warn(\n",
      "/Users/gowtham_babu/Desktop/tf/env/lib/python3.9/site-packages/sklearn/model_selection/_search.py:969: UserWarning: One or more of the train scores are non-finite: [-38524189.63281564 -25019310.49573695 -22821240.40929715\n",
      " -35961930.61766917 -23803602.93416039 -21327438.27788707\n",
      " -35396078.18665116 -23636046.88347363 -20910783.10536565\n",
      " -33580121.49653427 -23226185.54008258 -20487702.88975803\n",
      " -31703348.25231915 -22479167.36735525 -20162813.73112332\n",
      " -32607448.62876346 -22553789.06437116 -20197719.0543816\n",
      " -33028037.23208869 -22613380.96682947 -20137497.79300357\n",
      "                nan                nan                nan\n",
      "                nan                nan                nan\n",
      "                nan                nan                nan\n",
      "  -8437714.39149418  -8437693.69798966  -8437684.11985329\n",
      "  -8437678.91691501  -8437675.77970733  -8437682.05824726\n",
      "  -8437678.91719463  -8437676.67041815  -8437726.20628763\n",
      "  -8437700.34381098  -8437688.37317893  -8437684.23568598\n",
      "  -8437679.68737579  -8437705.66522434  -8437697.56962096\n",
      "  -8437691.77888348  -8437667.09205528  -8437667.09205528\n",
      "  -8437667.09205528  -8437667.09205528  -8437667.09205528\n",
      "  -8437667.09205528  -8437667.09205528  -8437667.94348142\n",
      "  -8437676.55234571  -8437672.41346865  -8437670.49775984\n",
      "  -8437669.45712789  -8437674.04247274  -8437672.41346865\n",
      "  -8437671.29662881  -8437670.49775984  -8437667.09205528\n",
      "  -8437667.09205528  -8437667.09205528  -8437667.09205528\n",
      "  -8437667.09205528  -8437667.09205528  -8437667.09205528\n",
      "  -8437667.09205528  -8437667.09205528  -8437667.09205528\n",
      "  -8437667.09205528  -8437667.09205528  -8437667.09205528\n",
      "  -8437667.09205528  -8437667.09205528  -8437667.09205528\n",
      "                nan                nan                nan\n",
      "                nan                nan                nan\n",
      "                nan                nan                nan\n",
      "                nan                nan                nan\n",
      "                nan                nan                nan\n",
      "                nan                nan                nan\n",
      "                nan                nan                nan\n",
      "                nan                nan                nan]\n",
      "  warnings.warn(\n"
     ]
    },
    {
     "data": {
      "text/plain": [
       "GridSearchCV(cv=5, estimator=RandomForestRegressor(random_state=42),\n",
       "             param_grid=[{'max_features': [1, 2, 3, 4, 5, 6, 7, 8, 9, 10],\n",
       "                          'n_estimators': [3, 10, 30]},\n",
       "                         {'bootstrap': [False],\n",
       "                          'max_features': [2, 3, 4, 5, 6, 7, 8, 9, 10],\n",
       "                          'n_estimators': [3, 4, 5, 6, 7, 8, 9, 10]}],\n",
       "             return_train_score=True, scoring='neg_mean_squared_error')"
      ]
     },
     "execution_count": 20,
     "metadata": {},
     "output_type": "execute_result"
    }
   ],
   "source": [
    "y = df['price']\n",
    "X = df.drop(['price'], axis = 1)\n",
    "\n",
    "from sklearn.model_selection import train_test_split\n",
    "X_train, X_test, y_train, y_test = train_test_split(X, y, test_size=0.3, random_state=42)\n",
    "\n",
    "from sklearn.model_selection import GridSearchCV\n",
    "\n",
    "from sklearn.ensemble import RandomForestRegressor\n",
    "\n",
    "param_grid = [\n",
    "    # try 12 (3×4) combinations of hyperparameters\n",
    "    {'n_estimators': [3, 10, 30], 'max_features': [1, 2, 3, 4, 5, 6, 7, 8, 9, 10]},\n",
    "    # then try 6 (2×3) combinations with bootstrap set as False\n",
    "    {'bootstrap': [False], 'n_estimators': [3,4, 5, 6, 7, 8, 9, 10], 'max_features': [2, 3, 4, 5, 6, 7, 8, 9, 10]},\n",
    "  ]\n",
    "\n",
    "\n",
    "forest_reg = RandomForestRegressor(random_state=42)\n",
    "# train across 5 folds, that's a total of (12+6)*5=90 rounds of training \n",
    "grid_search = GridSearchCV(forest_reg, param_grid, cv=5,\n",
    "                           scoring='neg_mean_squared_error',\n",
    "                           return_train_score=True)\n",
    "grid_search.fit(X_train, y_train)"
   ]
  },
  {
   "cell_type": "code",
   "execution_count": 21,
   "metadata": {
    "id": "dB5XIAq4NL8M",
    "outputId": "f5fab39f-95de-4199-96d3-978e8e078cee"
   },
   "outputs": [
    {
     "data": {
      "text/plain": [
       "RandomForestRegressor(max_features=6, n_estimators=30, random_state=42)"
      ]
     },
     "execution_count": 21,
     "metadata": {},
     "output_type": "execute_result"
    }
   ],
   "source": [
    "grid_search.best_estimator_"
   ]
  },
  {
   "cell_type": "code",
   "execution_count": 22,
   "metadata": {
    "id": "1L3qjQU-NL8M"
   },
   "outputs": [],
   "source": [
    "final_model = grid_search.best_estimator_"
   ]
  },
  {
   "cell_type": "code",
   "execution_count": 23,
   "metadata": {
    "id": "mx3EnTnoNL8M",
    "outputId": "6cabb5db-dd1a-4a20-be6f-94272d1b3670"
   },
   "outputs": [
    {
     "name": "stderr",
     "output_type": "stream",
     "text": [
      "/Users/gowtham_babu/Desktop/tf/env/lib/python3.9/site-packages/seaborn/distributions.py:2619: FutureWarning: `distplot` is a deprecated function and will be removed in a future version. Please adapt your code to use either `displot` (a figure-level function with similar flexibility) or `histplot` (an axes-level function for histograms).\n",
      "  warnings.warn(msg, FutureWarning)\n"
     ]
    },
    {
     "name": "stdout",
     "output_type": "stream",
     "text": [
      "9663.030114633042\n"
     ]
    },
    {
     "data": {
      "text/plain": [
       "<AxesSubplot:xlabel='price', ylabel='Density'>"
      ]
     },
     "execution_count": 23,
     "metadata": {},
     "output_type": "execute_result"
    },
    {
     "data": {
      "image/png": "[encoded data removed]",
      "text/plain": [
       "<Figure size 432x288 with 1 Axes>"
      ]
     },
     "metadata": {
      "needs_background": "light"
     },
     "output_type": "display_data"
    }
   ],
   "source": [
    "final_predictions = final_model.predict(X_test)\n",
    "\n",
    "from sklearn.metrics import mean_squared_error\n",
    "final_mse = mean_squared_error(y_test, final_predictions)\n",
    "print(final_mse**0.5)\n",
    "sns.distplot(y_test - final_predictions)"
   ]
  },
  {
   "cell_type": "code",
   "execution_count": 24,
   "metadata": {
    "id": "zzm7HWqmNL8M"
   },
   "outputs": [
    {
     "data": {
      "text/plain": [
       "[(0.5228959277239239, 'price'),\n",
       " (0.14950782760496842, 'mileage'),\n",
       " (0.0962082212607876, 'Model'),\n",
       " (0.09253065903254536, 'Year'),\n",
       " (0.056037056854150426, 'highway_mpg'),\n",
       " (0.04606408223668596, 'city_mpg')]"
      ]
     },
     "execution_count": 24,
     "metadata": {},
     "output_type": "execute_result"
    }
   ],
   "source": [
    "feature_importances = grid_search.best_estimator_.feature_importances_\n",
    "\n",
    "ft = list(zip(df.columns, feature_importances.tolist()))\n",
    "\n",
    "sorted(zip(feature_importances, df.columns), reverse=True)[:6]"
   ]
  },
  {
   "cell_type": "markdown",
   "metadata": {
    "id": "JIpqKj0VNL8N"
   },
   "source": [
    "#### Random Search cv"
   ]
  },
  {
   "cell_type": "code",
   "execution_count": 25,
   "metadata": {
    "id": "GEi0E3CtNL8N",
    "outputId": "971314b3-a22a-4c6c-c0e6-ddaa190da529"
   },
   "outputs": [
    {
     "data": {
      "text/plain": [
       "RandomizedSearchCV(cv=5, estimator=RandomForestRegressor(random_state=42),\n",
       "                   param_distributions={'max_features': <scipy.stats._distn_infrastructure.rv_frozen object at 0x1441c8ac0>,\n",
       "                                        'n_estimators': <scipy.stats._distn_infrastructure.rv_frozen object at 0x1441c8a90>},\n",
       "                   random_state=42, scoring='neg_mean_squared_error')"
      ]
     },
     "execution_count": 25,
     "metadata": {},
     "output_type": "execute_result"
    }
   ],
   "source": [
    "from sklearn.model_selection import RandomizedSearchCV\n",
    "from scipy.stats import randint\n",
    "\n",
    "param_distribs = {\n",
    "        'n_estimators': randint(low=1, high=200),\n",
    "        'max_features': randint(low=1, high=8),\n",
    "    }\n",
    "\n",
    "forest_reg = RandomForestRegressor(random_state=42)\n",
    "rnd_search = RandomizedSearchCV(forest_reg,\n",
    "                                param_distributions=param_distribs,\n",
    "                                n_iter=10, cv=5, \n",
    "                                scoring='neg_mean_squared_error',\n",
    "                                random_state=42)\n",
    "rnd_search.fit(X_train, y_train)"
   ]
  },
  {
   "cell_type": "code",
   "execution_count": 26,
   "metadata": {
    "id": "xWP6hC39NL8N"
   },
   "outputs": [],
   "source": [
    "final_model = rnd_search.best_estimator_"
   ]
  },
  {
   "cell_type": "code",
   "execution_count": 27,
   "metadata": {
    "id": "w0Zk0NZ7NL8N",
    "outputId": "b6111922-0f4e-4dad-b25e-a47152e4ef03"
   },
   "outputs": [
    {
     "name": "stdout",
     "output_type": "stream",
     "text": [
      "9580.640875726116\n"
     ]
    },
    {
     "name": "stderr",
     "output_type": "stream",
     "text": [
      "/Users/gowtham_babu/Desktop/tf/env/lib/python3.9/site-packages/seaborn/distributions.py:2619: FutureWarning: `distplot` is a deprecated function and will be removed in a future version. Please adapt your code to use either `displot` (a figure-level function with similar flexibility) or `histplot` (an axes-level function for histograms).\n",
      "  warnings.warn(msg, FutureWarning)\n"
     ]
    },
    {
     "data": {
      "text/plain": [
       "<AxesSubplot:xlabel='price', ylabel='Density'>"
      ]
     },
     "execution_count": 27,
     "metadata": {},
     "output_type": "execute_result"
    },
    {
     "data": {
      "image/png": "[encoded data removed]",
      "text/plain": [
       "<Figure size 432x288 with 1 Axes>"
      ]
     },
     "metadata": {
      "needs_background": "light"
     },
     "output_type": "display_data"
    }
   ],
   "source": [
    "final_predictions = final_model.predict(X_test)\n",
    "final_mse = mean_squared_error(y_test, final_predictions)\n",
    "print(final_mse**0.5)\n",
    "sns.distplot(y_test - final_predictions)"
   ]
  },
  {
   "cell_type": "markdown",
   "metadata": {
    "id": "0Gsf1p97NL8N"
   },
   "source": [
    "### Deep learning model"
   ]
  },
  {
   "cell_type": "code",
   "execution_count": 12,
   "metadata": {
    "id": "8CLanf9TNL8N"
   },
   "outputs": [],
   "source": [
    "import tensorflow as tf\n",
    "\n",
    "from tensorflow import keras \n",
    "\n",
    "from tensorflow.keras.models import Sequential\n",
    "from tensorflow.keras import layers\n",
    "from tensorflow.keras.layers import Input, Dense, Flatten, Dropout, BatchNormalization\n",
    "from tensorflow.keras.optimizers import Adam, SGD, RMSprop"
   ]
  },
  {
   "cell_type": "code",
   "execution_count": 13,
   "metadata": {
    "id": "e3ZO_AkzNL8N",
    "scrolled": true
   },
   "outputs": [],
   "source": [
    "y = df['price']\n",
    "X = df.drop(['price'], axis = 1)\n",
    "\n",
    "from sklearn.model_selection import train_test_split\n",
    "X_train, X_test, y_train, y_test = train_test_split(X, y, test_size=0.3, random_state=42)"
   ]
  },
  {
   "cell_type": "code",
   "execution_count": 21,
   "metadata": {
    "id": "yMNTxiYUNL8N"
   },
   "outputs": [],
   "source": [
    "model_1 = Sequential()\n",
    "model_1.add(Dense(12,input_shape = (29,),activation = 'relu'))\n",
    "model_1.add(Dense(12,activation = 'relu'))\n",
    "model_1.add(Dense(12,activation = 'relu'))\n",
    "model_1.add(Dense(12,activation = 'relu'))\n",
    "model_1.add(Dense(12,activation = 'relu'))\n",
    "model_1.add(Dense(12,activation = 'relu'))\n",
    "model_1.add(Dense(12,activation = 'relu'))\n",
    "model_1.add(Dense(12,activation = 'relu'))\n",
    "model_1.add(Dense(12,activation = 'relu'))\n",
    "model_1.add(Dense(1,activation='relu'))"
   ]
  },
  {
   "cell_type": "code",
   "execution_count": null,
   "metadata": {
    "id": "gmrSX5iQO7rH"
   },
   "outputs": [],
   "source": [
    "model_1.compile(loss=\"mean_squared_error\", optimizer=keras.optimizers.SGD(lr=1e-3))\n",
    "history = model_1.fit(X_train, y_train, epochs=200, validation_data=(X_test, y_test))\n",
    "mse_test = model_1.evaluate(X_test, y_test)\n",
    "#X_new = X_test[:3]\n",
    "y_pred = model_1.predict(X_test)"
   ]
  },
  {
   "cell_type": "code",
   "execution_count": 24,
   "metadata": {
    "colab": {
     "base_uri": "https://localhost:8080/"
    },
    "id": "f5LD0Qg-NL8N",
    "outputId": "db09ff8a-6914-4587-db3a-d02ff99b5354"
   },
   "outputs": [
    {
     "data": {
      "text/plain": [
       "1617305424.3014297"
      ]
     },
     "execution_count": 24,
     "metadata": {},
     "output_type": "execute_result"
    }
   ],
   "source": [
    "from sklearn.metrics import mean_squared_error\n",
    "y_pred = model_1.predict(X_test)\n",
    "final_mse = mean_squared_error(y_test, y_pred)\n",
    "final_mse"
   ]
  },
  {
   "cell_type": "code",
   "execution_count": 19,
   "metadata": {
    "id": "ulxnN7tsN9Ya"
   },
   "outputs": [],
   "source": [
    "def build_model(hp):\n",
    "    model = keras.Sequential()\n",
    "    for i in range(hp.Int('num_layers', 2, 30)):\n",
    "        model.add(layers.Dense(units=hp.Int('units_' + str(i),\n",
    "                                            min_value=32,\n",
    "                                            max_value=512,\n",
    "                                            step=32),\n",
    "                               activation='relu'))\n",
    "        model.add(layers.Dense(units=hp.Int('units_' + str(i),\n",
    "                                            min_value=32,\n",
    "                                            max_value=512,\n",
    "                                            step=32),\n",
    "                               activation='relu'))\n",
    "        model.add(layers.Dense(units=hp.Int('units_' + str(i),\n",
    "                                            min_value=32,\n",
    "                                            max_value=512,\n",
    "                                            step=32),\n",
    "                               activation='relu'))\n",
    "        model.add(layers.Dense(units=hp.Int('units_' + str(i),\n",
    "                                            min_value=32,\n",
    "                                            max_value=512,\n",
    "                                            step=32),\n",
    "                               activation='relu'))\n",
    "        model.add(layers.Dense(units=hp.Int('units_' + str(i),\n",
    "                                            min_value=32,\n",
    "                                            max_value=512,\n",
    "                                            step=32),\n",
    "                               activation='relu'))\n",
    "    model.add(layers.Dense(1, activation='linear'))\n",
    "    model.compile(\n",
    "        optimizer=keras.optimizers.Adam(\n",
    "            hp.Choice('learning_rate', [1e-2, 1e-3, 1e-4])),\n",
    "        loss='mean_absolute_error',\n",
    "        metrics=['mean_absolute_error'])\n",
    "    return model"
   ]
  },
  {
   "cell_type": "code",
   "execution_count": 20,
   "metadata": {
    "colab": {
     "base_uri": "https://localhost:8080/"
    },
    "id": "cKTq5V8lQvqp",
    "outputId": "1ce58f68-bbb5-424d-f9de-9f0195bd6fe5"
   },
   "outputs": [
    {
     "name": "stderr",
     "output_type": "stream",
     "text": [
      "/usr/local/lib/python3.7/dist-packages/ipykernel_launcher.py:4: DeprecationWarning: `import kerastuner` is deprecated, please use `import keras_tuner`.\n",
      "  after removing the cwd from sys.path.\n"
     ]
    }
   ],
   "source": [
    "import tensorflow as tf\n",
    "from tensorflow import keras\n",
    "from tensorflow.keras import layers\n",
    "from kerastuner.tuners import RandomSearch\n",
    "tuner = RandomSearch(\n",
    "    build_model,\n",
    "    objective='val_mean_absolute_error',\n",
    "    max_trials=5,\n",
    "    executions_per_trial=3,\n",
    "    directory='project',\n",
    "    project_name='Air Quality Index3')"
   ]
  },
  {
   "cell_type": "code",
   "execution_count": 21,
   "metadata": {
    "colab": {
     "base_uri": "https://localhost:8080/"
    },
    "id": "gnXzH1nuRKl7",
    "outputId": "d466df36-d5eb-4710-f050-7ecd781e1cdf"
   },
   "outputs": [
    {
     "name": "stdout",
     "output_type": "stream",
     "text": [
      "Trial 5 Complete [00h 09m 24s]\n",
      "val_mean_absolute_error: 12891.56640625\n",
      "\n",
      "Best val_mean_absolute_error So Far: 5554.872884114583\n",
      "Total elapsed time: 00h 44m 22s\n",
      "INFO:tensorflow:Oracle triggered exit\n"
     ]
    }
   ],
   "source": [
    "stop_early = tf.keras.callbacks.EarlyStopping(monitor='val_loss', patience=5)\n",
    "tuner.search(X_train, y_train,\n",
    "             epochs = 100,\n",
    "             validation_data=(X_test, y_test), callbacks=[stop_early])"
   ]
  },
  {
   "cell_type": "code",
   "execution_count": 22,
   "metadata": {
    "colab": {
     "base_uri": "https://localhost:8080/"
    },
    "collapsed": true,
    "id": "SwWoGkgjQyW_",
    "outputId": "a3e00370-5902-4bd1-c3c5-814246077836"
   },
   "outputs": [
    {
     "name": "stdout",
     "output_type": "stream",
     "text": [
      "Epoch 1/100\n",
      "147/147 [==============================] - 5s 29ms/step - loss: 14714.3467 - mean_absolute_error: 14714.3467 - val_loss: 8822.3398 - val_mean_absolute_error: 8822.3398\n",
      "Epoch 2/100\n",
      "147/147 [==============================] - 4s 27ms/step - loss: 8993.9316 - mean_absolute_error: 8993.9316 - val_loss: 10153.7578 - val_mean_absolute_error: 10153.7578\n",
      "Epoch 3/100\n",
      "147/147 [==============================] - 4s 27ms/step - loss: 7285.2798 - mean_absolute_error: 7285.2798 - val_loss: 9353.6523 - val_mean_absolute_error: 9353.6523\n",
      "Epoch 4/100\n",
      "147/147 [==============================] - 4s 27ms/step - loss: 7832.3823 - mean_absolute_error: 7832.3823 - val_loss: 5980.0371 - val_mean_absolute_error: 5980.0371\n",
      "Epoch 5/100\n",
      "147/147 [==============================] - 4s 27ms/step - loss: 7109.9277 - mean_absolute_error: 7109.9277 - val_loss: 7378.0186 - val_mean_absolute_error: 7378.0186\n",
      "Epoch 6/100\n",
      "147/147 [==============================] - 4s 27ms/step - loss: 6786.0615 - mean_absolute_error: 6786.0615 - val_loss: 6155.1514 - val_mean_absolute_error: 6155.1514\n",
      "Epoch 7/100\n",
      "147/147 [==============================] - 4s 26ms/step - loss: 6474.6099 - mean_absolute_error: 6474.6099 - val_loss: 6949.7788 - val_mean_absolute_error: 6949.7788\n",
      "Epoch 8/100\n",
      "147/147 [==============================] - 4s 26ms/step - loss: 6509.9995 - mean_absolute_error: 6509.9995 - val_loss: 9369.0703 - val_mean_absolute_error: 9369.0703\n",
      "Epoch 9/100\n",
      "147/147 [==============================] - 4s 26ms/step - loss: 6369.3276 - mean_absolute_error: 6369.3276 - val_loss: 6195.2866 - val_mean_absolute_error: 6195.2866\n",
      "Epoch 10/100\n",
      "147/147 [==============================] - 4s 26ms/step - loss: 6089.2646 - mean_absolute_error: 6089.2646 - val_loss: 6773.3911 - val_mean_absolute_error: 6773.3911\n",
      "Epoch 11/100\n",
      "147/147 [==============================] - 4s 26ms/step - loss: 5787.8843 - mean_absolute_error: 5787.8843 - val_loss: 5690.7578 - val_mean_absolute_error: 5690.7578\n",
      "Epoch 12/100\n",
      "147/147 [==============================] - 4s 26ms/step - loss: 6085.3936 - mean_absolute_error: 6085.3936 - val_loss: 6133.0806 - val_mean_absolute_error: 6133.0806\n",
      "Epoch 13/100\n",
      "147/147 [==============================] - 4s 26ms/step - loss: 6127.1807 - mean_absolute_error: 6127.1807 - val_loss: 6931.3716 - val_mean_absolute_error: 6931.3716\n",
      "Epoch 14/100\n",
      "147/147 [==============================] - 4s 27ms/step - loss: 5876.2026 - mean_absolute_error: 5876.2026 - val_loss: 5621.5415 - val_mean_absolute_error: 5621.5415\n",
      "Epoch 15/100\n",
      "147/147 [==============================] - 4s 31ms/step - loss: 5748.2842 - mean_absolute_error: 5748.2842 - val_loss: 5415.0796 - val_mean_absolute_error: 5415.0796\n",
      "Epoch 16/100\n",
      "147/147 [==============================] - 4s 26ms/step - loss: 5448.7622 - mean_absolute_error: 5448.7622 - val_loss: 6033.0518 - val_mean_absolute_error: 6033.0518\n",
      "Epoch 17/100\n",
      "147/147 [==============================] - 4s 26ms/step - loss: 5616.4990 - mean_absolute_error: 5616.4990 - val_loss: 6957.2017 - val_mean_absolute_error: 6957.2017\n",
      "Epoch 18/100\n",
      "147/147 [==============================] - 4s 26ms/step - loss: 5872.8896 - mean_absolute_error: 5872.8896 - val_loss: 5676.6665 - val_mean_absolute_error: 5676.6665\n",
      "Epoch 19/100\n",
      "147/147 [==============================] - 4s 26ms/step - loss: 5389.3413 - mean_absolute_error: 5389.3413 - val_loss: 9326.2852 - val_mean_absolute_error: 9326.2852\n",
      "Epoch 20/100\n",
      "147/147 [==============================] - 4s 26ms/step - loss: 5353.1772 - mean_absolute_error: 5353.1772 - val_loss: 5815.0869 - val_mean_absolute_error: 5815.0869\n",
      "Epoch 21/100\n",
      "147/147 [==============================] - 4s 27ms/step - loss: 5633.3486 - mean_absolute_error: 5633.3486 - val_loss: 5838.6450 - val_mean_absolute_error: 5838.6450\n",
      "Epoch 22/100\n",
      "147/147 [==============================] - 4s 26ms/step - loss: 5126.3521 - mean_absolute_error: 5126.3521 - val_loss: 5533.3193 - val_mean_absolute_error: 5533.3193\n",
      "Epoch 23/100\n",
      "147/147 [==============================] - 4s 26ms/step - loss: 6139.1543 - mean_absolute_error: 6139.1543 - val_loss: 7442.2783 - val_mean_absolute_error: 7442.2783\n",
      "Epoch 24/100\n",
      "147/147 [==============================] - 4s 26ms/step - loss: 5425.8257 - mean_absolute_error: 5425.8257 - val_loss: 6640.7769 - val_mean_absolute_error: 6640.7769\n",
      "Epoch 25/100\n",
      "147/147 [==============================] - 4s 26ms/step - loss: 5268.9487 - mean_absolute_error: 5268.9487 - val_loss: 5633.4448 - val_mean_absolute_error: 5633.4448\n",
      "Epoch 26/100\n",
      "147/147 [==============================] - 4s 26ms/step - loss: 5818.7842 - mean_absolute_error: 5818.7842 - val_loss: 7625.9863 - val_mean_absolute_error: 7625.9863\n",
      "Epoch 27/100\n",
      "147/147 [==============================] - 4s 26ms/step - loss: 5237.1367 - mean_absolute_error: 5237.1367 - val_loss: 5617.4136 - val_mean_absolute_error: 5617.4136\n",
      "Epoch 28/100\n",
      "147/147 [==============================] - 4s 26ms/step - loss: 5165.0913 - mean_absolute_error: 5165.0913 - val_loss: 5910.0425 - val_mean_absolute_error: 5910.0425\n",
      "Epoch 29/100\n",
      "147/147 [==============================] - 4s 27ms/step - loss: 5427.0605 - mean_absolute_error: 5427.0605 - val_loss: 5548.7891 - val_mean_absolute_error: 5548.7891\n",
      "Epoch 30/100\n",
      "147/147 [==============================] - 4s 26ms/step - loss: 5290.0874 - mean_absolute_error: 5290.0874 - val_loss: 5430.3037 - val_mean_absolute_error: 5430.3037\n",
      "Epoch 31/100\n",
      "147/147 [==============================] - 4s 26ms/step - loss: 5316.2896 - mean_absolute_error: 5316.2896 - val_loss: 5986.0415 - val_mean_absolute_error: 5986.0415\n",
      "Epoch 32/100\n",
      "147/147 [==============================] - 4s 26ms/step - loss: 5406.4819 - mean_absolute_error: 5406.4819 - val_loss: 5865.4653 - val_mean_absolute_error: 5865.4653\n",
      "Epoch 33/100\n",
      "147/147 [==============================] - 4s 27ms/step - loss: 5219.4048 - mean_absolute_error: 5219.4048 - val_loss: 6614.1543 - val_mean_absolute_error: 6614.1543\n",
      "Epoch 34/100\n",
      "147/147 [==============================] - 4s 25ms/step - loss: 5056.3281 - mean_absolute_error: 5056.3281 - val_loss: 6054.6260 - val_mean_absolute_error: 6054.6260\n",
      "Epoch 35/100\n",
      "147/147 [==============================] - 4s 26ms/step - loss: 5003.1050 - mean_absolute_error: 5003.1050 - val_loss: 5374.6011 - val_mean_absolute_error: 5374.6011\n",
      "Epoch 36/100\n",
      "147/147 [==============================] - 4s 26ms/step - loss: 4806.8521 - mean_absolute_error: 4806.8521 - val_loss: 5299.4023 - val_mean_absolute_error: 5299.4023\n",
      "Epoch 37/100\n",
      "147/147 [==============================] - 4s 26ms/step - loss: 5126.5410 - mean_absolute_error: 5126.5410 - val_loss: 5474.3916 - val_mean_absolute_error: 5474.3916\n",
      "Epoch 38/100\n",
      "147/147 [==============================] - 4s 26ms/step - loss: 5441.0981 - mean_absolute_error: 5441.0981 - val_loss: 6030.9932 - val_mean_absolute_error: 6030.9932\n",
      "Epoch 39/100\n",
      "147/147 [==============================] - 4s 26ms/step - loss: 5394.8735 - mean_absolute_error: 5394.8735 - val_loss: 7537.2700 - val_mean_absolute_error: 7537.2700\n",
      "Epoch 40/100\n",
      "147/147 [==============================] - 4s 26ms/step - loss: 5128.1113 - mean_absolute_error: 5128.1113 - val_loss: 6331.9829 - val_mean_absolute_error: 6331.9829\n",
      "Epoch 41/100\n",
      "147/147 [==============================] - 4s 26ms/step - loss: 4973.6523 - mean_absolute_error: 4973.6523 - val_loss: 5470.0322 - val_mean_absolute_error: 5470.0322\n",
      "Epoch 42/100\n",
      "147/147 [==============================] - 4s 26ms/step - loss: 4978.5894 - mean_absolute_error: 4978.5894 - val_loss: 6158.9214 - val_mean_absolute_error: 6158.9214\n",
      "Epoch 43/100\n",
      "147/147 [==============================] - 4s 26ms/step - loss: 5626.4424 - mean_absolute_error: 5626.4424 - val_loss: 5688.0283 - val_mean_absolute_error: 5688.0283\n",
      "Epoch 44/100\n",
      "147/147 [==============================] - 4s 26ms/step - loss: 4908.9473 - mean_absolute_error: 4908.9473 - val_loss: 5511.9487 - val_mean_absolute_error: 5511.9487\n",
      "Epoch 45/100\n",
      "147/147 [==============================] - 4s 26ms/step - loss: 4870.1680 - mean_absolute_error: 4870.1680 - val_loss: 5370.3965 - val_mean_absolute_error: 5370.3965\n",
      "Epoch 46/100\n",
      "147/147 [==============================] - 4s 26ms/step - loss: 4963.9243 - mean_absolute_error: 4963.9243 - val_loss: 5580.4399 - val_mean_absolute_error: 5580.4399\n",
      "Epoch 47/100\n",
      "147/147 [==============================] - 4s 26ms/step - loss: 5166.6416 - mean_absolute_error: 5166.6416 - val_loss: 6640.4268 - val_mean_absolute_error: 6640.4268\n",
      "Epoch 48/100\n",
      "147/147 [==============================] - 4s 26ms/step - loss: 4983.4092 - mean_absolute_error: 4983.4092 - val_loss: 6017.4497 - val_mean_absolute_error: 6017.4497\n",
      "Epoch 49/100\n",
      "147/147 [==============================] - 4s 26ms/step - loss: 4879.4053 - mean_absolute_error: 4879.4053 - val_loss: 5780.5317 - val_mean_absolute_error: 5780.5317\n",
      "Epoch 50/100\n",
      "147/147 [==============================] - 4s 26ms/step - loss: 5083.0688 - mean_absolute_error: 5083.0688 - val_loss: 5221.0391 - val_mean_absolute_error: 5221.0391\n",
      "Epoch 51/100\n",
      "147/147 [==============================] - 4s 26ms/step - loss: 4751.6831 - mean_absolute_error: 4751.6831 - val_loss: 5425.6807 - val_mean_absolute_error: 5425.6807\n",
      "Epoch 52/100\n",
      "147/147 [==============================] - 4s 26ms/step - loss: 4617.9038 - mean_absolute_error: 4617.9038 - val_loss: 5402.4282 - val_mean_absolute_error: 5402.4282\n",
      "Epoch 53/100\n",
      "147/147 [==============================] - 4s 26ms/step - loss: 4841.3130 - mean_absolute_error: 4841.3130 - val_loss: 5418.4355 - val_mean_absolute_error: 5418.4355\n",
      "Epoch 54/100\n",
      "147/147 [==============================] - 4s 26ms/step - loss: 4796.5762 - mean_absolute_error: 4796.5762 - val_loss: 5428.5117 - val_mean_absolute_error: 5428.5117\n",
      "Epoch 55/100\n",
      "147/147 [==============================] - 4s 26ms/step - loss: 4851.7661 - mean_absolute_error: 4851.7661 - val_loss: 5486.5142 - val_mean_absolute_error: 5486.5142\n",
      "Epoch 56/100\n",
      "147/147 [==============================] - 4s 26ms/step - loss: 4833.0767 - mean_absolute_error: 4833.0767 - val_loss: 5211.1353 - val_mean_absolute_error: 5211.1353\n",
      "Epoch 57/100\n",
      "147/147 [==============================] - 4s 26ms/step - loss: 4765.7744 - mean_absolute_error: 4765.7744 - val_loss: 5837.0811 - val_mean_absolute_error: 5837.0811\n",
      "Epoch 58/100\n",
      "147/147 [==============================] - 4s 26ms/step - loss: 4790.7202 - mean_absolute_error: 4790.7202 - val_loss: 5959.3267 - val_mean_absolute_error: 5959.3267\n",
      "Epoch 59/100\n",
      "147/147 [==============================] - 4s 26ms/step - loss: 4839.8813 - mean_absolute_error: 4839.8813 - val_loss: 6341.3931 - val_mean_absolute_error: 6341.3931\n",
      "Epoch 60/100\n",
      "147/147 [==============================] - 4s 26ms/step - loss: 4892.1631 - mean_absolute_error: 4892.1631 - val_loss: 5883.5918 - val_mean_absolute_error: 5883.5918\n",
      "Epoch 61/100\n",
      "147/147 [==============================] - 4s 26ms/step - loss: 4727.2876 - mean_absolute_error: 4727.2876 - val_loss: 5342.9688 - val_mean_absolute_error: 5342.9688\n",
      "Epoch 62/100\n",
      "147/147 [==============================] - 4s 26ms/step - loss: 4825.6958 - mean_absolute_error: 4825.6958 - val_loss: 5913.5776 - val_mean_absolute_error: 5913.5776\n",
      "Epoch 63/100\n",
      "147/147 [==============================] - 4s 26ms/step - loss: 4695.0747 - mean_absolute_error: 4695.0747 - val_loss: 5380.3320 - val_mean_absolute_error: 5380.3320\n",
      "Epoch 64/100\n",
      "147/147 [==============================] - 4s 27ms/step - loss: 4824.6348 - mean_absolute_error: 4824.6348 - val_loss: 6067.3062 - val_mean_absolute_error: 6067.3062\n",
      "Epoch 65/100\n",
      "147/147 [==============================] - 4s 27ms/step - loss: 4736.4219 - mean_absolute_error: 4736.4219 - val_loss: 5506.4795 - val_mean_absolute_error: 5506.4795\n",
      "Epoch 66/100\n",
      "147/147 [==============================] - 4s 27ms/step - loss: 4958.8525 - mean_absolute_error: 4958.8525 - val_loss: 5237.5107 - val_mean_absolute_error: 5237.5107\n",
      "Epoch 67/100\n",
      "147/147 [==============================] - 4s 27ms/step - loss: 4598.8242 - mean_absolute_error: 4598.8242 - val_loss: 5859.5845 - val_mean_absolute_error: 5859.5845\n",
      "Epoch 68/100\n",
      "147/147 [==============================] - 4s 27ms/step - loss: 4727.4663 - mean_absolute_error: 4727.4663 - val_loss: 5485.9551 - val_mean_absolute_error: 5485.9551\n",
      "Epoch 69/100\n",
      "147/147 [==============================] - 4s 26ms/step - loss: 4488.3442 - mean_absolute_error: 4488.3442 - val_loss: 5529.0513 - val_mean_absolute_error: 5529.0513\n",
      "Epoch 70/100\n",
      "147/147 [==============================] - 4s 26ms/step - loss: 4815.0615 - mean_absolute_error: 4815.0615 - val_loss: 6433.3760 - val_mean_absolute_error: 6433.3760\n",
      "Epoch 71/100\n",
      "147/147 [==============================] - 4s 26ms/step - loss: 4660.8125 - mean_absolute_error: 4660.8125 - val_loss: 5809.2681 - val_mean_absolute_error: 5809.2681\n",
      "Epoch 72/100\n",
      "147/147 [==============================] - 4s 26ms/step - loss: 4864.6958 - mean_absolute_error: 4864.6958 - val_loss: 5372.2900 - val_mean_absolute_error: 5372.2900\n",
      "Epoch 73/100\n",
      "147/147 [==============================] - 4s 26ms/step - loss: 4673.4048 - mean_absolute_error: 4673.4048 - val_loss: 5762.0312 - val_mean_absolute_error: 5762.0312\n",
      "Epoch 74/100\n",
      "147/147 [==============================] - 4s 27ms/step - loss: 5127.5693 - mean_absolute_error: 5127.5693 - val_loss: 5505.0610 - val_mean_absolute_error: 5505.0610\n",
      "Epoch 75/100\n",
      "147/147 [==============================] - 4s 26ms/step - loss: 4738.4932 - mean_absolute_error: 4738.4932 - val_loss: 5585.5947 - val_mean_absolute_error: 5585.5947\n",
      "Epoch 76/100\n",
      "147/147 [==============================] - 4s 27ms/step - loss: 4483.6084 - mean_absolute_error: 4483.6084 - val_loss: 5803.8311 - val_mean_absolute_error: 5803.8311\n",
      "Epoch 77/100\n",
      "147/147 [==============================] - 4s 26ms/step - loss: 4748.6304 - mean_absolute_error: 4748.6304 - val_loss: 5883.8193 - val_mean_absolute_error: 5883.8193\n",
      "Epoch 78/100\n",
      "147/147 [==============================] - 4s 26ms/step - loss: 4547.0840 - mean_absolute_error: 4547.0840 - val_loss: 5485.7432 - val_mean_absolute_error: 5485.7432\n",
      "Epoch 79/100\n",
      "147/147 [==============================] - 4s 26ms/step - loss: 4539.0254 - mean_absolute_error: 4539.0254 - val_loss: 5444.0630 - val_mean_absolute_error: 5444.0630\n",
      "Epoch 80/100\n",
      "147/147 [==============================] - 4s 27ms/step - loss: 4472.1094 - mean_absolute_error: 4472.1094 - val_loss: 5323.6191 - val_mean_absolute_error: 5323.6191\n",
      "Epoch 81/100\n",
      "147/147 [==============================] - 4s 27ms/step - loss: 4499.8428 - mean_absolute_error: 4499.8428 - val_loss: 5387.9438 - val_mean_absolute_error: 5387.9438\n",
      "Epoch 82/100\n",
      "147/147 [==============================] - 4s 26ms/step - loss: 4780.3726 - mean_absolute_error: 4780.3726 - val_loss: 5947.8853 - val_mean_absolute_error: 5947.8853\n",
      "Epoch 83/100\n",
      "147/147 [==============================] - 4s 27ms/step - loss: 4550.7344 - mean_absolute_error: 4550.7344 - val_loss: 5902.3892 - val_mean_absolute_error: 5902.3892\n",
      "Epoch 84/100\n",
      "147/147 [==============================] - 4s 26ms/step - loss: 4646.5073 - mean_absolute_error: 4646.5073 - val_loss: 6649.0195 - val_mean_absolute_error: 6649.0195\n",
      "Epoch 85/100\n",
      "147/147 [==============================] - 4s 26ms/step - loss: 4506.7881 - mean_absolute_error: 4506.7881 - val_loss: 5411.8491 - val_mean_absolute_error: 5411.8491\n",
      "Epoch 86/100\n",
      "147/147 [==============================] - 4s 27ms/step - loss: 4648.1685 - mean_absolute_error: 4648.1685 - val_loss: 5589.4390 - val_mean_absolute_error: 5589.4390\n",
      "Epoch 87/100\n",
      "147/147 [==============================] - 4s 27ms/step - loss: 4538.4951 - mean_absolute_error: 4538.4951 - val_loss: 6204.1011 - val_mean_absolute_error: 6204.1011\n",
      "Epoch 88/100\n",
      "147/147 [==============================] - 4s 26ms/step - loss: 4523.5308 - mean_absolute_error: 4523.5308 - val_loss: 5815.5908 - val_mean_absolute_error: 5815.5908\n",
      "Epoch 89/100\n",
      "147/147 [==============================] - 4s 26ms/step - loss: 4641.0518 - mean_absolute_error: 4641.0518 - val_loss: 5455.0308 - val_mean_absolute_error: 5455.0308\n",
      "Epoch 90/100\n",
      "147/147 [==============================] - 4s 27ms/step - loss: 4647.4092 - mean_absolute_error: 4647.4092 - val_loss: 5798.1606 - val_mean_absolute_error: 5798.1606\n",
      "Epoch 91/100\n",
      "147/147 [==============================] - 4s 26ms/step - loss: 17210.6094 - mean_absolute_error: 17210.6094 - val_loss: 6209.5049 - val_mean_absolute_error: 6209.5049\n",
      "Epoch 92/100\n",
      "147/147 [==============================] - 4s 27ms/step - loss: 5745.1514 - mean_absolute_error: 5745.1514 - val_loss: 6288.9883 - val_mean_absolute_error: 6288.9883\n",
      "Epoch 93/100\n",
      "147/147 [==============================] - 4s 26ms/step - loss: 4737.0601 - mean_absolute_error: 4737.0601 - val_loss: 5487.5449 - val_mean_absolute_error: 5487.5449\n",
      "Epoch 94/100\n",
      "147/147 [==============================] - 4s 26ms/step - loss: 4579.6260 - mean_absolute_error: 4579.6260 - val_loss: 5483.7163 - val_mean_absolute_error: 5483.7163\n",
      "Epoch 95/100\n",
      "147/147 [==============================] - 4s 27ms/step - loss: 4513.3677 - mean_absolute_error: 4513.3677 - val_loss: 5515.5103 - val_mean_absolute_error: 5515.5103\n",
      "Epoch 96/100\n",
      "147/147 [==============================] - 4s 26ms/step - loss: 4657.9868 - mean_absolute_error: 4657.9868 - val_loss: 5413.2427 - val_mean_absolute_error: 5413.2427\n",
      "Epoch 97/100\n",
      "147/147 [==============================] - 4s 26ms/step - loss: 4736.3486 - mean_absolute_error: 4736.3486 - val_loss: 5542.2490 - val_mean_absolute_error: 5542.2490\n",
      "Epoch 98/100\n",
      "147/147 [==============================] - 4s 27ms/step - loss: 4818.2227 - mean_absolute_error: 4818.2227 - val_loss: 5780.1152 - val_mean_absolute_error: 5780.1152\n",
      "Epoch 99/100\n",
      "147/147 [==============================] - 4s 27ms/step - loss: 4555.1182 - mean_absolute_error: 4555.1182 - val_loss: 5451.2402 - val_mean_absolute_error: 5451.2402\n",
      "Epoch 100/100\n",
      "147/147 [==============================] - 4s 27ms/step - loss: 4738.4121 - mean_absolute_error: 4738.4121 - val_loss: 6416.9331 - val_mean_absolute_error: 6416.9331\n",
      "Best epoch: 91\n"
     ]
    }
   ],
   "source": [
    "best_hps = tuner.get_best_hyperparameters(num_trials=1)[0]\n",
    "\n",
    "# Build the model with the optimal hyperparameters and train it on the data for 100 epochs\n",
    "model = tuner.hypermodel.build(best_hps)\n",
    "history = model.fit(X_train, y_train, epochs=100, validation_split=0.2)\n",
    "\n",
    "val_acc_per_epoch = history.history['mean_absolute_error']\n",
    "best_epoch = val_acc_per_epoch.index(max(val_acc_per_epoch)) + 1\n",
    "print('Best epoch: %d' % (best_epoch,))"
   ]
  },
  {
   "cell_type": "code",
   "execution_count": 23,
   "metadata": {
    "colab": {
     "base_uri": "https://localhost:8080/"
    },
    "collapsed": true,
    "id": "6tmty9YzRFhd",
    "outputId": "cf05ac73-c899-4b25-962e-848b07c6e62d"
   },
   "outputs": [
    {
     "name": "stdout",
     "output_type": "stream",
     "text": [
      "Epoch 1/91\n",
      "147/147 [==============================] - 6s 31ms/step - loss: 18358.1465 - mean_absolute_error: 18358.1465 - val_loss: 10590.7998 - val_mean_absolute_error: 10590.7998\n",
      "Epoch 2/91\n",
      "147/147 [==============================] - 4s 29ms/step - loss: 8929.5576 - mean_absolute_error: 8929.5576 - val_loss: 6753.0195 - val_mean_absolute_error: 6753.0195\n",
      "Epoch 3/91\n",
      "147/147 [==============================] - 4s 28ms/step - loss: 7962.1890 - mean_absolute_error: 7962.1890 - val_loss: 7726.3896 - val_mean_absolute_error: 7726.3896\n",
      "Epoch 4/91\n",
      "147/147 [==============================] - 4s 28ms/step - loss: 7640.7568 - mean_absolute_error: 7640.7568 - val_loss: 7614.7983 - val_mean_absolute_error: 7614.7983\n",
      "Epoch 5/91\n",
      "147/147 [==============================] - 4s 28ms/step - loss: 7893.6533 - mean_absolute_error: 7893.6533 - val_loss: 7431.9609 - val_mean_absolute_error: 7431.9609\n",
      "Epoch 6/91\n",
      "147/147 [==============================] - 4s 28ms/step - loss: 7657.6211 - mean_absolute_error: 7657.6211 - val_loss: 6278.7925 - val_mean_absolute_error: 6278.7925\n",
      "Epoch 7/91\n",
      "147/147 [==============================] - 4s 28ms/step - loss: 6080.9551 - mean_absolute_error: 6080.9551 - val_loss: 8325.9873 - val_mean_absolute_error: 8325.9873\n",
      "Epoch 8/91\n",
      "147/147 [==============================] - 4s 28ms/step - loss: 6028.3672 - mean_absolute_error: 6028.3672 - val_loss: 8808.7920 - val_mean_absolute_error: 8808.7920\n",
      "Epoch 9/91\n",
      "147/147 [==============================] - 4s 28ms/step - loss: 6717.2070 - mean_absolute_error: 6717.2070 - val_loss: 5860.9683 - val_mean_absolute_error: 5860.9683\n",
      "Epoch 10/91\n",
      "147/147 [==============================] - 4s 28ms/step - loss: 6585.6704 - mean_absolute_error: 6585.6704 - val_loss: 5999.8979 - val_mean_absolute_error: 5999.8979\n",
      "Epoch 11/91\n",
      "147/147 [==============================] - 4s 29ms/step - loss: 5888.9829 - mean_absolute_error: 5888.9829 - val_loss: 8646.7266 - val_mean_absolute_error: 8646.7266\n",
      "Epoch 12/91\n",
      "147/147 [==============================] - 4s 28ms/step - loss: 6245.5796 - mean_absolute_error: 6245.5796 - val_loss: 6388.5454 - val_mean_absolute_error: 6388.5454\n",
      "Epoch 13/91\n",
      "147/147 [==============================] - 4s 28ms/step - loss: 5885.9785 - mean_absolute_error: 5885.9785 - val_loss: 5486.3428 - val_mean_absolute_error: 5486.3428\n",
      "Epoch 14/91\n",
      "147/147 [==============================] - 4s 29ms/step - loss: 6430.3374 - mean_absolute_error: 6430.3374 - val_loss: 5838.5415 - val_mean_absolute_error: 5838.5415\n",
      "Epoch 15/91\n",
      "147/147 [==============================] - 4s 28ms/step - loss: 6097.3247 - mean_absolute_error: 6097.3247 - val_loss: 5738.7891 - val_mean_absolute_error: 5738.7891\n",
      "Epoch 16/91\n",
      "147/147 [==============================] - 4s 28ms/step - loss: 5829.1812 - mean_absolute_error: 5829.1812 - val_loss: 5686.8843 - val_mean_absolute_error: 5686.8843\n",
      "Epoch 17/91\n",
      "147/147 [==============================] - 4s 28ms/step - loss: 5293.0342 - mean_absolute_error: 5293.0342 - val_loss: 5558.0864 - val_mean_absolute_error: 5558.0864\n",
      "Epoch 18/91\n",
      "147/147 [==============================] - 4s 29ms/step - loss: 5587.4600 - mean_absolute_error: 5587.4600 - val_loss: 5792.5967 - val_mean_absolute_error: 5792.5967\n",
      "Epoch 19/91\n",
      "147/147 [==============================] - 4s 28ms/step - loss: 5810.1528 - mean_absolute_error: 5810.1528 - val_loss: 5859.3286 - val_mean_absolute_error: 5859.3286\n",
      "Epoch 20/91\n",
      "147/147 [==============================] - 4s 28ms/step - loss: 6195.2676 - mean_absolute_error: 6195.2676 - val_loss: 5486.2007 - val_mean_absolute_error: 5486.2007\n",
      "Epoch 21/91\n",
      "147/147 [==============================] - 4s 28ms/step - loss: 5746.2085 - mean_absolute_error: 5746.2085 - val_loss: 6100.0098 - val_mean_absolute_error: 6100.0098\n",
      "Epoch 22/91\n",
      "147/147 [==============================] - 4s 28ms/step - loss: 6022.1685 - mean_absolute_error: 6022.1685 - val_loss: 5853.0527 - val_mean_absolute_error: 5853.0527\n",
      "Epoch 23/91\n",
      "147/147 [==============================] - 4s 28ms/step - loss: 5555.9751 - mean_absolute_error: 5555.9751 - val_loss: 5503.3330 - val_mean_absolute_error: 5503.3330\n",
      "Epoch 24/91\n",
      "147/147 [==============================] - 4s 28ms/step - loss: 5607.1245 - mean_absolute_error: 5607.1245 - val_loss: 5626.3315 - val_mean_absolute_error: 5626.3315\n",
      "Epoch 25/91\n",
      "147/147 [==============================] - 4s 29ms/step - loss: 5560.5996 - mean_absolute_error: 5560.5996 - val_loss: 5471.1626 - val_mean_absolute_error: 5471.1626\n",
      "Epoch 26/91\n",
      "147/147 [==============================] - 4s 29ms/step - loss: 5186.8774 - mean_absolute_error: 5186.8774 - val_loss: 5480.2222 - val_mean_absolute_error: 5480.2222\n",
      "Epoch 27/91\n",
      "147/147 [==============================] - 4s 29ms/step - loss: 5211.1064 - mean_absolute_error: 5211.1064 - val_loss: 5580.3857 - val_mean_absolute_error: 5580.3857\n",
      "Epoch 28/91\n",
      "147/147 [==============================] - 4s 29ms/step - loss: 5359.7310 - mean_absolute_error: 5359.7310 - val_loss: 7582.4741 - val_mean_absolute_error: 7582.4741\n",
      "Epoch 29/91\n",
      "147/147 [==============================] - 4s 29ms/step - loss: 5816.7188 - mean_absolute_error: 5816.7188 - val_loss: 5625.9155 - val_mean_absolute_error: 5625.9155\n",
      "Epoch 30/91\n",
      "147/147 [==============================] - 4s 28ms/step - loss: 5684.3838 - mean_absolute_error: 5684.3838 - val_loss: 7541.6670 - val_mean_absolute_error: 7541.6670\n",
      "Epoch 31/91\n",
      "147/147 [==============================] - 4s 29ms/step - loss: 5356.7861 - mean_absolute_error: 5356.7861 - val_loss: 5404.9258 - val_mean_absolute_error: 5404.9258\n",
      "Epoch 32/91\n",
      "147/147 [==============================] - 4s 29ms/step - loss: 5516.3833 - mean_absolute_error: 5516.3833 - val_loss: 6760.3389 - val_mean_absolute_error: 6760.3389\n",
      "Epoch 33/91\n",
      "147/147 [==============================] - 4s 29ms/step - loss: 5305.0811 - mean_absolute_error: 5305.0811 - val_loss: 5443.8789 - val_mean_absolute_error: 5443.8789\n",
      "Epoch 34/91\n",
      "147/147 [==============================] - 4s 28ms/step - loss: 5064.4834 - mean_absolute_error: 5064.4834 - val_loss: 7318.0215 - val_mean_absolute_error: 7318.0215\n",
      "Epoch 35/91\n",
      "147/147 [==============================] - 4s 29ms/step - loss: 5684.3584 - mean_absolute_error: 5684.3584 - val_loss: 5512.4521 - val_mean_absolute_error: 5512.4521\n",
      "Epoch 36/91\n",
      "147/147 [==============================] - 4s 29ms/step - loss: 5632.1411 - mean_absolute_error: 5632.1411 - val_loss: 6374.0298 - val_mean_absolute_error: 6374.0298\n",
      "Epoch 37/91\n",
      "147/147 [==============================] - 4s 28ms/step - loss: 5422.9761 - mean_absolute_error: 5422.9761 - val_loss: 5592.8193 - val_mean_absolute_error: 5592.8193\n",
      "Epoch 38/91\n",
      "147/147 [==============================] - 4s 28ms/step - loss: 5183.8345 - mean_absolute_error: 5183.8345 - val_loss: 5640.8657 - val_mean_absolute_error: 5640.8657\n",
      "Epoch 39/91\n",
      "147/147 [==============================] - 4s 28ms/step - loss: 5075.9873 - mean_absolute_error: 5075.9873 - val_loss: 5714.8550 - val_mean_absolute_error: 5714.8550\n",
      "Epoch 40/91\n",
      "147/147 [==============================] - 4s 29ms/step - loss: 4974.6211 - mean_absolute_error: 4974.6211 - val_loss: 5633.8262 - val_mean_absolute_error: 5633.8262\n",
      "Epoch 41/91\n",
      "147/147 [==============================] - 4s 29ms/step - loss: 5106.8589 - mean_absolute_error: 5106.8589 - val_loss: 5473.0044 - val_mean_absolute_error: 5473.0044\n",
      "Epoch 42/91\n",
      "147/147 [==============================] - 4s 28ms/step - loss: 5261.5205 - mean_absolute_error: 5261.5205 - val_loss: 5609.2578 - val_mean_absolute_error: 5609.2578\n",
      "Epoch 43/91\n",
      "147/147 [==============================] - 4s 29ms/step - loss: 5154.1489 - mean_absolute_error: 5154.1489 - val_loss: 7660.7866 - val_mean_absolute_error: 7660.7866\n",
      "Epoch 44/91\n",
      "147/147 [==============================] - 4s 28ms/step - loss: 5282.6895 - mean_absolute_error: 5282.6895 - val_loss: 5384.9609 - val_mean_absolute_error: 5384.9609\n",
      "Epoch 45/91\n",
      "147/147 [==============================] - 4s 28ms/step - loss: 5055.5469 - mean_absolute_error: 5055.5469 - val_loss: 5753.9365 - val_mean_absolute_error: 5753.9365\n",
      "Epoch 46/91\n",
      "147/147 [==============================] - 4s 28ms/step - loss: 4920.4429 - mean_absolute_error: 4920.4429 - val_loss: 5389.0845 - val_mean_absolute_error: 5389.0845\n",
      "Epoch 47/91\n",
      "147/147 [==============================] - 4s 29ms/step - loss: 5107.2969 - mean_absolute_error: 5107.2969 - val_loss: 5322.9717 - val_mean_absolute_error: 5322.9717\n",
      "Epoch 48/91\n",
      "147/147 [==============================] - 4s 29ms/step - loss: 5175.9087 - mean_absolute_error: 5175.9087 - val_loss: 6741.6929 - val_mean_absolute_error: 6741.6929\n",
      "Epoch 49/91\n",
      "147/147 [==============================] - 4s 29ms/step - loss: 4997.0005 - mean_absolute_error: 4997.0005 - val_loss: 5638.4673 - val_mean_absolute_error: 5638.4673\n",
      "Epoch 50/91\n",
      "147/147 [==============================] - 4s 29ms/step - loss: 5117.1221 - mean_absolute_error: 5117.1221 - val_loss: 5923.6519 - val_mean_absolute_error: 5923.6519\n",
      "Epoch 51/91\n",
      "147/147 [==============================] - 5s 31ms/step - loss: 5053.7715 - mean_absolute_error: 5053.7715 - val_loss: 5836.3164 - val_mean_absolute_error: 5836.3164\n",
      "Epoch 52/91\n",
      "147/147 [==============================] - 4s 30ms/step - loss: 5119.5898 - mean_absolute_error: 5119.5898 - val_loss: 5780.6655 - val_mean_absolute_error: 5780.6655\n",
      "Epoch 53/91\n",
      "147/147 [==============================] - 4s 29ms/step - loss: 4989.1348 - mean_absolute_error: 4989.1348 - val_loss: 5406.0674 - val_mean_absolute_error: 5406.0674\n",
      "Epoch 54/91\n",
      "147/147 [==============================] - 4s 29ms/step - loss: 6340.6284 - mean_absolute_error: 6340.6284 - val_loss: 5465.1538 - val_mean_absolute_error: 5465.1538\n",
      "Epoch 55/91\n",
      "147/147 [==============================] - 4s 29ms/step - loss: 5165.6216 - mean_absolute_error: 5165.6216 - val_loss: 5525.3896 - val_mean_absolute_error: 5525.3896\n",
      "Epoch 56/91\n",
      "147/147 [==============================] - 4s 29ms/step - loss: 4955.9517 - mean_absolute_error: 4955.9517 - val_loss: 5360.6226 - val_mean_absolute_error: 5360.6226\n",
      "Epoch 57/91\n",
      "147/147 [==============================] - 4s 30ms/step - loss: 5097.5815 - mean_absolute_error: 5097.5815 - val_loss: 5324.6450 - val_mean_absolute_error: 5324.6450\n",
      "Epoch 58/91\n",
      "147/147 [==============================] - 4s 29ms/step - loss: 4909.9092 - mean_absolute_error: 4909.9092 - val_loss: 5674.2300 - val_mean_absolute_error: 5674.2300\n",
      "Epoch 59/91\n",
      "147/147 [==============================] - 4s 29ms/step - loss: 4904.3042 - mean_absolute_error: 4904.3042 - val_loss: 5277.8130 - val_mean_absolute_error: 5277.8130\n",
      "Epoch 60/91\n",
      "147/147 [==============================] - 4s 30ms/step - loss: 4893.5977 - mean_absolute_error: 4893.5977 - val_loss: 5323.9116 - val_mean_absolute_error: 5323.9116\n",
      "Epoch 61/91\n",
      "147/147 [==============================] - 4s 30ms/step - loss: 4861.4888 - mean_absolute_error: 4861.4888 - val_loss: 8094.7388 - val_mean_absolute_error: 8094.7388\n",
      "Epoch 62/91\n",
      "147/147 [==============================] - 4s 30ms/step - loss: 4927.6221 - mean_absolute_error: 4927.6221 - val_loss: 5219.4761 - val_mean_absolute_error: 5219.4761\n",
      "Epoch 63/91\n",
      "147/147 [==============================] - 4s 29ms/step - loss: 4873.1704 - mean_absolute_error: 4873.1704 - val_loss: 6431.1343 - val_mean_absolute_error: 6431.1343\n",
      "Epoch 64/91\n",
      "147/147 [==============================] - 4s 29ms/step - loss: 4858.5874 - mean_absolute_error: 4858.5874 - val_loss: 5433.5986 - val_mean_absolute_error: 5433.5986\n",
      "Epoch 65/91\n",
      "147/147 [==============================] - 4s 29ms/step - loss: 4818.9341 - mean_absolute_error: 4818.9341 - val_loss: 5463.3911 - val_mean_absolute_error: 5463.3911\n",
      "Epoch 66/91\n",
      "147/147 [==============================] - 4s 29ms/step - loss: 4899.2417 - mean_absolute_error: 4899.2417 - val_loss: 5399.7773 - val_mean_absolute_error: 5399.7773\n",
      "Epoch 67/91\n",
      "147/147 [==============================] - 4s 30ms/step - loss: 4802.5830 - mean_absolute_error: 4802.5830 - val_loss: 5384.2402 - val_mean_absolute_error: 5384.2402\n",
      "Epoch 68/91\n",
      "147/147 [==============================] - 4s 30ms/step - loss: 4771.6792 - mean_absolute_error: 4771.6792 - val_loss: 5741.2466 - val_mean_absolute_error: 5741.2466\n",
      "Epoch 69/91\n",
      "147/147 [==============================] - 4s 29ms/step - loss: 5235.2979 - mean_absolute_error: 5235.2979 - val_loss: 5420.0283 - val_mean_absolute_error: 5420.0283\n",
      "Epoch 70/91\n",
      "147/147 [==============================] - 4s 29ms/step - loss: 4813.7700 - mean_absolute_error: 4813.7700 - val_loss: 5437.2056 - val_mean_absolute_error: 5437.2056\n",
      "Epoch 71/91\n",
      "147/147 [==============================] - 4s 29ms/step - loss: 5069.4790 - mean_absolute_error: 5069.4790 - val_loss: 5991.4155 - val_mean_absolute_error: 5991.4155\n",
      "Epoch 72/91\n",
      "147/147 [==============================] - 4s 30ms/step - loss: 4754.1323 - mean_absolute_error: 4754.1323 - val_loss: 5569.1694 - val_mean_absolute_error: 5569.1694\n",
      "Epoch 73/91\n",
      "147/147 [==============================] - 4s 29ms/step - loss: 4957.8442 - mean_absolute_error: 4957.8442 - val_loss: 6314.6514 - val_mean_absolute_error: 6314.6514\n",
      "Epoch 74/91\n",
      "147/147 [==============================] - 4s 29ms/step - loss: 4774.8521 - mean_absolute_error: 4774.8521 - val_loss: 6125.7397 - val_mean_absolute_error: 6125.7397\n",
      "Epoch 75/91\n",
      "147/147 [==============================] - 4s 29ms/step - loss: 4603.3188 - mean_absolute_error: 4603.3188 - val_loss: 5335.0996 - val_mean_absolute_error: 5335.0996\n",
      "Epoch 76/91\n",
      "147/147 [==============================] - 4s 29ms/step - loss: 4614.9751 - mean_absolute_error: 4614.9751 - val_loss: 5465.4785 - val_mean_absolute_error: 5465.4785\n",
      "Epoch 77/91\n",
      "147/147 [==============================] - 4s 30ms/step - loss: 4824.2397 - mean_absolute_error: 4824.2397 - val_loss: 5385.7017 - val_mean_absolute_error: 5385.7017\n",
      "Epoch 78/91\n",
      "147/147 [==============================] - 4s 29ms/step - loss: 4564.5620 - mean_absolute_error: 4564.5620 - val_loss: 5517.9556 - val_mean_absolute_error: 5517.9556\n",
      "Epoch 79/91\n",
      "147/147 [==============================] - 4s 30ms/step - loss: 4603.8550 - mean_absolute_error: 4603.8550 - val_loss: 5330.6240 - val_mean_absolute_error: 5330.6240\n",
      "Epoch 80/91\n",
      "147/147 [==============================] - 4s 29ms/step - loss: 4595.6128 - mean_absolute_error: 4595.6128 - val_loss: 5546.5220 - val_mean_absolute_error: 5546.5220\n",
      "Epoch 81/91\n",
      "147/147 [==============================] - 4s 29ms/step - loss: 4681.7788 - mean_absolute_error: 4681.7788 - val_loss: 5982.9355 - val_mean_absolute_error: 5982.9355\n",
      "Epoch 82/91\n",
      "147/147 [==============================] - 4s 29ms/step - loss: 4738.8291 - mean_absolute_error: 4738.8291 - val_loss: 5773.6567 - val_mean_absolute_error: 5773.6567\n",
      "Epoch 83/91\n",
      "147/147 [==============================] - 4s 29ms/step - loss: 4664.8530 - mean_absolute_error: 4664.8530 - val_loss: 5617.8203 - val_mean_absolute_error: 5617.8203\n",
      "Epoch 84/91\n",
      "147/147 [==============================] - 4s 29ms/step - loss: 4632.5449 - mean_absolute_error: 4632.5449 - val_loss: 5292.9966 - val_mean_absolute_error: 5292.9966\n",
      "Epoch 85/91\n",
      "147/147 [==============================] - 4s 29ms/step - loss: 4598.5459 - mean_absolute_error: 4598.5459 - val_loss: 5876.5269 - val_mean_absolute_error: 5876.5269\n",
      "Epoch 86/91\n",
      "147/147 [==============================] - 4s 29ms/step - loss: 4675.9683 - mean_absolute_error: 4675.9683 - val_loss: 5594.5312 - val_mean_absolute_error: 5594.5312\n",
      "Epoch 87/91\n",
      "147/147 [==============================] - 4s 29ms/step - loss: 4461.9473 - mean_absolute_error: 4461.9473 - val_loss: 5172.4976 - val_mean_absolute_error: 5172.4976\n",
      "Epoch 88/91\n",
      "147/147 [==============================] - 4s 30ms/step - loss: 4864.3848 - mean_absolute_error: 4864.3848 - val_loss: 5179.6431 - val_mean_absolute_error: 5179.6431\n",
      "Epoch 89/91\n",
      "147/147 [==============================] - 4s 30ms/step - loss: 4636.4927 - mean_absolute_error: 4636.4927 - val_loss: 5884.1289 - val_mean_absolute_error: 5884.1289\n",
      "Epoch 90/91\n",
      "147/147 [==============================] - 4s 29ms/step - loss: 4804.0312 - mean_absolute_error: 4804.0312 - val_loss: 5470.8140 - val_mean_absolute_error: 5470.8140\n",
      "Epoch 91/91\n",
      "147/147 [==============================] - 4s 29ms/step - loss: 4682.3394 - mean_absolute_error: 4682.3394 - val_loss: 5565.6099 - val_mean_absolute_error: 5565.6099\n"
     ]
    },
    {
     "data": {
      "text/plain": [
       "<keras.callbacks.History at 0x7f29b4a3d150>"
      ]
     },
     "execution_count": 23,
     "metadata": {},
     "output_type": "execute_result"
    }
   ],
   "source": [
    "hypermodel = tuner.hypermodel.build(best_hps)\n",
    "\n",
    "# Retrain the model\n",
    "hypermodel.fit(X_train, y_train, epochs=best_epoch, validation_split=0.2)"
   ]
  },
  {
   "cell_type": "code",
   "execution_count": 24,
   "metadata": {
    "colab": {
     "base_uri": "https://localhost:8080/"
    },
    "id": "QkGC5B2_buLl",
    "outputId": "369aa226-1212-4f87-889d-992e82ffbd37"
   },
   "outputs": [
    {
     "name": "stdout",
     "output_type": "stream",
     "text": [
      "79/79 [==============================] - 1s 7ms/step - loss: 5537.3457 - mean_absolute_error: 5537.3457\n",
      "[test loss, test accuracy]: [5537.345703125, 5537.345703125]\n"
     ]
    }
   ],
   "source": [
    "eval_result = hypermodel.evaluate(X_test, y_test)\n",
    "print(\"[test loss, test accuracy]:\", eval_result)"
   ]
  },
  {
   "cell_type": "code",
   "execution_count": 25,
   "metadata": {
    "colab": {
     "base_uri": "https://localhost:8080/"
    },
    "id": "Eik--CR5bvnX",
    "outputId": "a98dc5e8-2e5e-4dc2-8e07-febe8c14c792"
   },
   "outputs": [
    {
     "data": {
      "text/plain": [
       "148910952.99767578"
      ]
     },
     "execution_count": 25,
     "metadata": {},
     "output_type": "execute_result"
    }
   ],
   "source": [
    "from sklearn.metrics import mean_squared_error\n",
    "y_pred = hypermodel.predict(X_test)\n",
    "final_mse = mean_squared_error(y_test, y_pred)\n",
    "final_mse"
   ]
  },
  {
   "cell_type": "markdown",
   "metadata": {
    "id": "N75qZyfR156X"
   },
   "source": [
    "### Best model"
   ]
  },
  {
   "cell_type": "markdown",
   "metadata": {},
   "source": [
    "Picking random forest as the best model for our project"
   ]
  },
  {
   "cell_type": "code",
   "execution_count": 225,
   "metadata": {},
   "outputs": [
    {
     "name": "stdout",
     "output_type": "stream",
     "text": [
      "[0]\n",
      "[7]\n",
      "[10]\n",
      "[2017, 0, 7, 20412, 19, 19, 10]\n"
     ]
    }
   ],
   "source": [
    "xnew = [2017, 'Mustang', 'premium', 20412, 19, 19, 'white']\n",
    "\n",
    "xnew[1] = xnew[1].lower()\n",
    "xnew[2] = xnew[2].lower()\n",
    "xnew[-1] = xnew[-1].lower()\n",
    "\n",
    "model = []\n",
    "if xnew[1] == 'mustang':\n",
    "    model.append(0)\n",
    "else:\n",
    "    model.append(1)\n",
    "print(model)\n",
    "\n",
    "typ = []\n",
    "if xnew[2] == 'gt':\n",
    "    typ.append(3)\n",
    "elif xnew[2] == 'ecoboost':\n",
    "    typ.append(2)\n",
    "elif xnew[2] == 'mach-e':\n",
    "    typ.append(6)\n",
    "elif xnew[2] == 'premium':\n",
    "    typ.append(7)\n",
    "elif xnew[2] == 'gt500':\n",
    "    typ.append(5)\n",
    "elif xnew[2] == 'gt350':\n",
    "    typ.append(4)\n",
    "elif xnew[2] == 'bullitt':\n",
    "    typ.append(1)\n",
    "elif xnew[2] == 'boss':\n",
    "    typ.append(0)\n",
    "else:\n",
    "    typ.append(8)\n",
    "print(typ)\n",
    "    \n",
    "    \n",
    "col = []\n",
    "if xnew[-1] == 'black':\n",
    "    col.append(1)\n",
    "elif xnew[-1] == 'white':\n",
    "    col.append(10)\n",
    "elif xnew[-1] == 'red':\n",
    "    col.append(8)\n",
    "elif xnew[-1] == 'blue':\n",
    "    col.append(1)\n",
    "elif xnew[-1] == 'silver':\n",
    "    col.append(9)\n",
    "elif xnew[-1] == 'gray':\n",
    "    col.append(2)\n",
    "elif xnew[-1] == 'magnetic':\n",
    "    col.append(4)\n",
    "elif xnew[-1] == 'orange':\n",
    "    col.append(6)\n",
    "elif xnew[-1] == 'other':\n",
    "    col.append(7)\n",
    "elif xnew[-1] == 'green':\n",
    "    col.append(3)\n",
    "elif xnew[-1] == 'yellow':\n",
    "    col.append(11)\n",
    "else:\n",
    "    col.append(5)\n",
    "print(col)\n",
    "    \n",
    "a = list()\n",
    "a.append(xnew[0])\n",
    "b = model\n",
    "c = typ\n",
    "d = xnew[3:6]\n",
    "e = col\n",
    "\n",
    "pred = a + b + c + d + e\n",
    "print(pred)"
   ]
  },
  {
   "cell_type": "code",
   "execution_count": 226,
   "metadata": {},
   "outputs": [
    {
     "name": "stdout",
     "output_type": "stream",
     "text": [
      "[21127.19]\n"
     ]
    },
    {
     "name": "stderr",
     "output_type": "stream",
     "text": [
      "/Users/gowtham_babu/Desktop/tf/env/lib/python3.9/site-packages/sklearn/base.py:445: UserWarning: X does not have valid feature names, but RandomForestRegressor was fitted with feature names\n",
      "  warnings.warn(\n"
     ]
    }
   ],
   "source": [
    "y_pred = tree_reg.predict([pred])\n",
    "print(y_pred)"
   ]
  },
  {
   "cell_type": "code",
   "execution_count": null,
   "metadata": {},
   "outputs": [],
   "source": []
  }
 ],
 "metadata": {
  "colab": {
   "collapsed_sections": [],
   "name": "Prediction.ipynb",
   "provenance": []
  },
  "kernelspec": {
   "display_name": "Python 3 (ipykernel)",
   "language": "python",
   "name": "python3"
  },
  "language_info": {
   "codemirror_mode": {
    "name": "ipython",
    "version": 3
   },
   "file_extension": ".py",
   "mimetype": "text/x-python",
   "name": "python",
   "nbconvert_exporter": "python",
   "pygments_lexer": "ipython3",
   "version": "3.9.7"
  }
 },
 "nbformat": 4,
 "nbformat_minor": 1
}
